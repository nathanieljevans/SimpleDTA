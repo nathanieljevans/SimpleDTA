{
 "cells": [
  {
   "cell_type": "code",
   "execution_count": 1,
   "metadata": {},
   "outputs": [],
   "source": [
    "from tdc.multi_pred import DTI\n",
    "import numpy as np\n",
    "from get_dataloaders import get_dataloaders\n",
    "from SimpleDTA import SimpleDTA\n",
    "import torch\n",
    "from matplotlib import pyplot as plt \n",
    "from sklearn.metrics import r2_score\n",
    "import time "
   ]
  },
  {
   "cell_type": "code",
   "execution_count": 2,
   "metadata": {},
   "outputs": [
    {
     "name": "stderr",
     "output_type": "stream",
     "text": [
      "Found local copy...\n",
      "Loading...\n",
      "Done!\n"
     ]
    },
    {
     "name": "stdout",
     "output_type": "stream",
     "text": [
      "mean: 11.723854152210857\n",
      "std: 0.8420492446261757\n",
      "train dataset size: 80823\n",
      "test dataset size: 24010\n",
      "valid dataset size: 12824\n"
     ]
    },
    {
     "data": {
      "text/plain": [
       "203"
      ]
     },
     "execution_count": 2,
     "metadata": {},
     "output_type": "execute_result"
    }
   ],
   "source": [
    "# 'BindingDB_Kd'\n",
    "train_loader, test_loader, valid_loader = get_dataloaders(batch_size=400, num_workers=8, dataset='KIBA', split='cold_drug')\n",
    "len(train_loader)"
   ]
  },
  {
   "cell_type": "code",
   "execution_count": 3,
   "metadata": {},
   "outputs": [
    {
     "data": {
      "text/plain": [
       "\"_y = []\\nfor i,(_data) in enumerate(train_loader): \\n    print(f'progress: {i}/{len(train_loader)}', end='\\r')\\n    _y.append(_data.y.detach().numpy())\\n\\n_y = np.concatenate(_y)\\n\\nplt.figure()\\nplt.title('Train Data')\\nplt.hist(_y, bins=100)\\nplt.show()\\n\\n_y = []\\nfor i,(_data) in enumerate(test_loader): \\n    print(f'progress: {i}/{len(test_loader)}', end='\\r')\\n    _y.append(_data.y.detach().numpy())\\n\\n_y = np.concatenate(_y)\\n\\nplt.figure()\\nplt.title('Test data')\\nplt.hist(_y, bins=100)\\nplt.show()\""
      ]
     },
     "execution_count": 3,
     "metadata": {},
     "output_type": "execute_result"
    }
   ],
   "source": [
    "# KIBA \n",
    "# train dataset size: 83673\n",
    "# test dataset size: 22271\n",
    "# valid dataset size: 11713\n",
    "\n",
    "'''_y = []\n",
    "for i,(_data) in enumerate(train_loader): \n",
    "    print(f'progress: {i}/{len(train_loader)}', end='\\r')\n",
    "    _y.append(_data.y.detach().numpy())\n",
    "\n",
    "_y = np.concatenate(_y)\n",
    "\n",
    "plt.figure()\n",
    "plt.title('Train Data')\n",
    "plt.hist(_y, bins=100)\n",
    "plt.show()\n",
    "\n",
    "_y = []\n",
    "for i,(_data) in enumerate(test_loader): \n",
    "    print(f'progress: {i}/{len(test_loader)}', end='\\r')\n",
    "    _y.append(_data.y.detach().numpy())\n",
    "\n",
    "_y = np.concatenate(_y)\n",
    "\n",
    "plt.figure()\n",
    "plt.title('Test data')\n",
    "plt.hist(_y, bins=100)\n",
    "plt.show()'''"
   ]
  },
  {
   "cell_type": "code",
   "execution_count": 4,
   "metadata": {},
   "outputs": [
    {
     "name": "stdout",
     "output_type": "stream",
     "text": [
      "drug enc: 398302\n",
      "prot enc: 398302\n",
      "mlp out: 260609\n"
     ]
    }
   ],
   "source": [
    "model = SimpleDTA(embedding_dim     =   50, \n",
    "                  drug_kernel_size  =   [3,5,9], \n",
    "                  prot_kernel_size  =   [3,7,13], \n",
    "                  hidden_channels   =   32, \n",
    "                  latent_channels   =   124, \n",
    "                  mlp_out_channels  =   512, \n",
    "                  dropout           =   0.1, \n",
    "                  encoder           =   'cnn-lstm', \n",
    "                  embedding_type    =   'trainable').to('cuda')\n",
    "\n",
    "\n",
    "print('drug enc:', sum(p.numel() for p in model.drug_encoder.parameters()))\n",
    "print('prot enc:', sum(p.numel() for p in model.prot_encoder.parameters()))\n",
    "print('mlp out:', sum(p.numel() for p in model.mlp_out.parameters()))"
   ]
  },
  {
   "cell_type": "code",
   "execution_count": 5,
   "metadata": {},
   "outputs": [],
   "source": [
    "optim = torch.optim.Adam(model.parameters(), lr=1e-3)\n",
    "crit = torch.nn.MSELoss()"
   ]
  },
  {
   "cell_type": "code",
   "execution_count": 6,
   "metadata": {},
   "outputs": [
    {
     "name": "stdout",
     "output_type": "stream",
     "text": [
      "(train, test) || epoch: 0 | loss: (64.4478, 0.9191) | r2: (-90.31, -0.41) | corr: (0.04,0.14) | time/epoch: 148.4 s\n",
      "(train, test) || epoch: 1 | loss: (1.8081, 0.5576) | r2: (-1.55, 0.14) | corr: (0.16,0.41) | time/epoch: 147.2 s\n",
      "(train, test) || epoch: 2 | loss: (1.7114, 0.7993) | r2: (-1.10, -0.20) | corr: (0.23,-0.06) | time/epoch: 147.1 s\n",
      "(train, test) || epoch: 3 | loss: (1.6794, 0.6288) | r2: (-1.26, 0.05) | corr: (0.15,0.35) | time/epoch: 147.2 s\n",
      "(train, test) || epoch: 4 | loss: (1.4800, 0.6883) | r2: (-0.91, -0.02) | corr: (0.14,0.35) | time/epoch: 147.3 s\n",
      "(train, test) || epoch: 5 | loss: (1.3461, 0.5968) | r2: (-0.90, 0.09) | corr: (0.06,0.32) | time/epoch: 147.0 s\n",
      "(train, test) || epoch: 6 | loss: (1.0971, 0.5731) | r2: (-0.53, 0.12) | corr: (0.18,0.37) | time/epoch: 147.3 s\n",
      "(train, test) || epoch: 7 | loss: (1.0807, 0.5511) | r2: (-0.52, 0.15) | corr: (0.13,0.39) | time/epoch: 147.1 s\n",
      "(train, test) || epoch: 8 | loss: (0.9259, 0.5587) | r2: (-0.30, 0.14) | corr: (0.25,0.39) | time/epoch: 145.4 s\n",
      "(train, test) || epoch: 9 | loss: (0.8688, 0.5571) | r2: (-0.22, 0.14) | corr: (0.29,0.40) | time/epoch: 141.6 s\n",
      "(train, test) || epoch: 10 | loss: (0.8055, 0.5521) | r2: (-0.13, 0.16) | corr: (0.34,0.44) | time/epoch: 141.4 s\n",
      "(train, test) || epoch: 11 | loss: (0.7780, 0.5275) | r2: (-0.09, 0.19) | corr: (0.34,0.45) | time/epoch: 141.1 s\n",
      "(train, test) || epoch: 12 | loss: (0.7106, 0.5874) | r2: (0.02, 0.10) | corr: (0.42,0.40) | time/epoch: 141.1 s\n",
      "(train, test) || epoch: 13 | loss: (0.7416, 0.5530) | r2: (-0.05, 0.17) | corr: (0.33,0.45) | time/epoch: 141.3 s\n",
      "(train, test) || epoch: 14 | loss: (0.6442, 0.6014) | r2: (0.09, 0.10) | corr: (0.45,0.48) | time/epoch: 141.4 s\n",
      "(train, test) || epoch: 15 | loss: (0.6124, 0.5143) | r2: (0.14, 0.21) | corr: (0.47,0.48) | time/epoch: 141.5 s\n",
      "(train, test) || epoch: 16 | loss: (0.5823, 0.5142) | r2: (0.18, 0.22) | corr: (0.50,0.49) | time/epoch: 141.4 s\n",
      "(train, test) || epoch: 17 | loss: (0.5550, 0.5420) | r2: (0.22, 0.17) | corr: (0.52,0.50) | time/epoch: 141.1 s\n",
      "(train, test) || epoch: 18 | loss: (0.5288, 0.5049) | r2: (0.25, 0.24) | corr: (0.55,0.52) | time/epoch: 141.5 s\n",
      "(train, test) || epoch: 19 | loss: (0.5023, 0.5264) | r2: (0.29, 0.19) | corr: (0.58,0.51) | time/epoch: 141.2 s\n",
      "(train, test) || epoch: 20 | loss: (0.4810, 0.4769) | r2: (0.32, 0.27) | corr: (0.59,0.52) | time/epoch: 141.2 s\n",
      "(train, test) || epoch: 21 | loss: (0.4594, 0.4826) | r2: (0.35, 0.27) | corr: (0.61,0.53) | time/epoch: 141.2 s\n",
      "(train, test) || epoch: 22 | loss: (0.4440, 0.4711) | r2: (0.37, 0.28) | corr: (0.63,0.54) | time/epoch: 141.2 s\n",
      "(train, test) || epoch: 23 | loss: (0.4277, 0.5711) | r2: (0.40, 0.14) | corr: (0.64,0.50) | time/epoch: 141.7 s\n",
      "(train, test) || epoch: 24 | loss: (0.4222, 0.4832) | r2: (0.41, 0.28) | corr: (0.65,0.54) | time/epoch: 141.9 s\n",
      "(train, test) || epoch: 25 | loss: (0.4145, 0.5305) | r2: (0.42, 0.19) | corr: (0.66,0.54) | time/epoch: 141.2 s\n",
      "(train, test) || epoch: 26 | loss: (0.4029, 0.4853) | r2: (0.43, 0.29) | corr: (0.67,0.55) | time/epoch: 141.2 s\n",
      "(train, test) || epoch: 27 | loss: (0.3890, 0.4885) | r2: (0.46, 0.26) | corr: (0.68,0.54) | time/epoch: 141.7 s\n",
      "(train, test) || epoch: 28 | loss: (0.3840, 0.4565) | r2: (0.46, 0.30) | corr: (0.69,0.57) | time/epoch: 141.1 s\n",
      "(train, test) || epoch: 29 | loss: (0.3718, 0.4944) | r2: (0.48, 0.24) | corr: (0.70,0.56) | time/epoch: 141.2 s\n",
      "(train, test) || epoch: 30 | loss: (0.3681, 0.4602) | r2: (0.48, 0.30) | corr: (0.70,0.56) | time/epoch: 141.5 s\n",
      "(train, test) || epoch: 31 | loss: (0.3507, 0.4542) | r2: (0.51, 0.30) | corr: (0.71,0.57) | time/epoch: 141.2 s\n",
      "(train, test) || epoch: 32 | loss: (0.3441, 0.4657) | r2: (0.52, 0.28) | corr: (0.72,0.56) | time/epoch: 141.5 s\n",
      "(train, test) || epoch: 33 | loss: (0.3421, 0.4664) | r2: (0.52, 0.31) | corr: (0.72,0.58) | time/epoch: 141.1 s\n",
      "(train, test) || epoch: 34 | loss: (0.3416, 0.4452) | r2: (0.53, 0.31) | corr: (0.73,0.57) | time/epoch: 141.5 s\n",
      "(train, test) || epoch: 35 | loss: (0.3412, 0.4712) | r2: (0.52, 0.28) | corr: (0.72,0.57) | time/epoch: 141.1 s\n",
      "(train, test) || epoch: 36 | loss: (0.3256, 0.4461) | r2: (0.54, 0.32) | corr: (0.74,0.57) | time/epoch: 141.0 s\n",
      "(train, test) || epoch: 37 | loss: (0.3186, 0.4579) | r2: (0.55, 0.29) | corr: (0.74,0.56) | time/epoch: 141.3 s\n",
      "(train, test) || epoch: 38 | loss: (0.3108, 0.4460) | r2: (0.56, 0.31) | corr: (0.75,0.58) | time/epoch: 141.4 s\n",
      "(train, test) || epoch: 39 | loss: (0.3080, 0.5205) | r2: (0.57, 0.20) | corr: (0.75,0.56) | time/epoch: 141.6 s\n",
      "(train, test) || epoch: 40 | loss: (0.3088, 0.4588) | r2: (0.56, 0.31) | corr: (0.75,0.58) | time/epoch: 140.9 s\n",
      "(train, test) || epoch: 41 | loss: (0.2994, 0.4705) | r2: (0.58, 0.29) | corr: (0.76,0.55) | time/epoch: 141.6 s\n",
      "(train, test) || epoch: 42 | loss: (0.2966, 0.4745) | r2: (0.58, 0.28) | corr: (0.76,0.57) | time/epoch: 141.4 s\n",
      "(train, test) || epoch: 43 | loss: (0.2973, 0.4794) | r2: (0.58, 0.27) | corr: (0.76,0.58) | time/epoch: 141.2 s\n",
      "(train, test) || epoch: 44 | loss: (0.2909, 0.4926) | r2: (0.59, 0.25) | corr: (0.77,0.55) | time/epoch: 141.1 s\n",
      "(train, test) || epoch: 45 | loss: (0.2889, 0.4610) | r2: (0.59, 0.30) | corr: (0.77,0.58) | time/epoch: 141.4 s\n",
      "(train, test) || epoch: 46 | loss: (0.2829, 0.4561) | r2: (0.60, 0.30) | corr: (0.78,0.57) | time/epoch: 141.5 s\n",
      "(train, test) || epoch: 47 | loss: (0.2774, 0.4615) | r2: (0.61, 0.29) | corr: (0.78,0.57) | time/epoch: 145.0 s\n",
      "(train, test) || epoch: 48 | loss: (0.2775, 0.4429) | r2: (0.61, 0.32) | corr: (0.78,0.58) | time/epoch: 146.8 s\n",
      "(train, test) || epoch: 49 | loss: (0.2760, 0.4758) | r2: (0.61, 0.27) | corr: (0.78,0.57) | time/epoch: 146.8 s\n",
      "(train, test) || epoch: 50 | loss: (0.2753, 0.4740) | r2: (0.61, 0.30) | corr: (0.78,0.57) | time/epoch: 146.7 s\n",
      "(train, test) || epoch: 51 | loss: (0.2666, 0.4506) | r2: (0.63, 0.31) | corr: (0.79,0.58) | time/epoch: 146.4 s\n",
      "(train, test) || epoch: 52 | loss: (0.2644, 0.4770) | r2: (0.63, 0.29) | corr: (0.79,0.57) | time/epoch: 146.7 s\n",
      "(train, test) || epoch: 53 | loss: (0.2635, 0.4668) | r2: (0.63, 0.29) | corr: (0.79,0.58) | time/epoch: 146.2 s\n"
     ]
    },
    {
     "ename": "KeyboardInterrupt",
     "evalue": "",
     "output_type": "error",
     "traceback": [
      "\u001b[0;31m---------------------------------------------------------------------------\u001b[0m",
      "\u001b[0;31mKeyboardInterrupt\u001b[0m                         Traceback (most recent call last)",
      "\u001b[1;32m/home/teddy/local/SimpleDTA/src/_dev.ipynb Cell 6\u001b[0m in \u001b[0;36m<cell line: 1>\u001b[0;34m()\u001b[0m\n\u001b[1;32m      <a href='vscode-notebook-cell://wsl%2Bubuntu-20.04/home/teddy/local/SimpleDTA/src/_dev.ipynb#ch0000006vscode-remote?line=8'>9</a>\u001b[0m model\u001b[39m.\u001b[39mtrain()\n\u001b[1;32m     <a href='vscode-notebook-cell://wsl%2Bubuntu-20.04/home/teddy/local/SimpleDTA/src/_dev.ipynb#ch0000006vscode-remote?line=9'>10</a>\u001b[0m data\u001b[39m.\u001b[39mto(\u001b[39m'\u001b[39m\u001b[39mcuda\u001b[39m\u001b[39m'\u001b[39m)\n\u001b[0;32m---> <a href='vscode-notebook-cell://wsl%2Bubuntu-20.04/home/teddy/local/SimpleDTA/src/_dev.ipynb#ch0000006vscode-remote?line=10'>11</a>\u001b[0m yhat \u001b[39m=\u001b[39m model(data\u001b[39m.\u001b[39;49msmiles_idx, data\u001b[39m.\u001b[39;49maa_idx)\u001b[39m.\u001b[39msqueeze(\u001b[39m-\u001b[39m\u001b[39m1\u001b[39m)\n\u001b[1;32m     <a href='vscode-notebook-cell://wsl%2Bubuntu-20.04/home/teddy/local/SimpleDTA/src/_dev.ipynb#ch0000006vscode-remote?line=12'>13</a>\u001b[0m loss \u001b[39m=\u001b[39m crit(yhat, data\u001b[39m.\u001b[39my)\n\u001b[1;32m     <a href='vscode-notebook-cell://wsl%2Bubuntu-20.04/home/teddy/local/SimpleDTA/src/_dev.ipynb#ch0000006vscode-remote?line=13'>14</a>\u001b[0m loss\u001b[39m.\u001b[39mbackward() \n",
      "File \u001b[0;32m~/miniconda3/envs/SimpleDTA/lib/python3.9/site-packages/torch/nn/modules/module.py:1110\u001b[0m, in \u001b[0;36mModule._call_impl\u001b[0;34m(self, *input, **kwargs)\u001b[0m\n\u001b[1;32m   1106\u001b[0m \u001b[39m# If we don't have any hooks, we want to skip the rest of the logic in\u001b[39;00m\n\u001b[1;32m   1107\u001b[0m \u001b[39m# this function, and just call forward.\u001b[39;00m\n\u001b[1;32m   1108\u001b[0m \u001b[39mif\u001b[39;00m \u001b[39mnot\u001b[39;00m (\u001b[39mself\u001b[39m\u001b[39m.\u001b[39m_backward_hooks \u001b[39mor\u001b[39;00m \u001b[39mself\u001b[39m\u001b[39m.\u001b[39m_forward_hooks \u001b[39mor\u001b[39;00m \u001b[39mself\u001b[39m\u001b[39m.\u001b[39m_forward_pre_hooks \u001b[39mor\u001b[39;00m _global_backward_hooks\n\u001b[1;32m   1109\u001b[0m         \u001b[39mor\u001b[39;00m _global_forward_hooks \u001b[39mor\u001b[39;00m _global_forward_pre_hooks):\n\u001b[0;32m-> 1110\u001b[0m     \u001b[39mreturn\u001b[39;00m forward_call(\u001b[39m*\u001b[39;49m\u001b[39minput\u001b[39;49m, \u001b[39m*\u001b[39;49m\u001b[39m*\u001b[39;49mkwargs)\n\u001b[1;32m   1111\u001b[0m \u001b[39m# Do not call functions when jit is used\u001b[39;00m\n\u001b[1;32m   1112\u001b[0m full_backward_hooks, non_full_backward_hooks \u001b[39m=\u001b[39m [], []\n",
      "File \u001b[0;32m~/local/SimpleDTA/src/SimpleDTA.py:80\u001b[0m, in \u001b[0;36mSimpleDTA.forward\u001b[0;34m(self, smiles_idx, aa_idx)\u001b[0m\n\u001b[1;32m     77\u001b[0m \u001b[39mdef\u001b[39;00m \u001b[39mforward\u001b[39m(\u001b[39mself\u001b[39m, smiles_idx, aa_idx): \n\u001b[1;32m     79\u001b[0m     dz \u001b[39m=\u001b[39m \u001b[39mself\u001b[39m\u001b[39m.\u001b[39mdrug_encoder(smiles_idx)\u001b[39m.\u001b[39mtanh()\n\u001b[0;32m---> 80\u001b[0m     pz \u001b[39m=\u001b[39m \u001b[39mself\u001b[39;49m\u001b[39m.\u001b[39;49mprot_encoder(aa_idx)\u001b[39m.\u001b[39mtanh()\n\u001b[1;32m     81\u001b[0m     z \u001b[39m=\u001b[39m torch\u001b[39m.\u001b[39mcat((dz, pz), dim\u001b[39m=\u001b[39m\u001b[39m1\u001b[39m)\n\u001b[1;32m     82\u001b[0m     \u001b[39mreturn\u001b[39;00m \u001b[39mself\u001b[39m\u001b[39m.\u001b[39mmlp_out(z)\n",
      "File \u001b[0;32m~/miniconda3/envs/SimpleDTA/lib/python3.9/site-packages/torch/nn/modules/module.py:1110\u001b[0m, in \u001b[0;36mModule._call_impl\u001b[0;34m(self, *input, **kwargs)\u001b[0m\n\u001b[1;32m   1106\u001b[0m \u001b[39m# If we don't have any hooks, we want to skip the rest of the logic in\u001b[39;00m\n\u001b[1;32m   1107\u001b[0m \u001b[39m# this function, and just call forward.\u001b[39;00m\n\u001b[1;32m   1108\u001b[0m \u001b[39mif\u001b[39;00m \u001b[39mnot\u001b[39;00m (\u001b[39mself\u001b[39m\u001b[39m.\u001b[39m_backward_hooks \u001b[39mor\u001b[39;00m \u001b[39mself\u001b[39m\u001b[39m.\u001b[39m_forward_hooks \u001b[39mor\u001b[39;00m \u001b[39mself\u001b[39m\u001b[39m.\u001b[39m_forward_pre_hooks \u001b[39mor\u001b[39;00m _global_backward_hooks\n\u001b[1;32m   1109\u001b[0m         \u001b[39mor\u001b[39;00m _global_forward_hooks \u001b[39mor\u001b[39;00m _global_forward_pre_hooks):\n\u001b[0;32m-> 1110\u001b[0m     \u001b[39mreturn\u001b[39;00m forward_call(\u001b[39m*\u001b[39;49m\u001b[39minput\u001b[39;49m, \u001b[39m*\u001b[39;49m\u001b[39m*\u001b[39;49mkwargs)\n\u001b[1;32m   1111\u001b[0m \u001b[39m# Do not call functions when jit is used\u001b[39;00m\n\u001b[1;32m   1112\u001b[0m full_backward_hooks, non_full_backward_hooks \u001b[39m=\u001b[39m [], []\n",
      "File \u001b[0;32m~/local/SimpleDTA/src/EncoderCNNLSTM.py:52\u001b[0m, in \u001b[0;36mEncoderCNNLSTM.forward\u001b[0;34m(self, x)\u001b[0m\n\u001b[1;32m     50\u001b[0m z \u001b[39m=\u001b[39m torch\u001b[39m.\u001b[39mcat([f(z) \u001b[39mfor\u001b[39;00m f \u001b[39min\u001b[39;00m \u001b[39mself\u001b[39m\u001b[39m.\u001b[39mfs], dim\u001b[39m=\u001b[39m\u001b[39m1\u001b[39m) \u001b[39m# (B, C, L)\u001b[39;00m\n\u001b[1;32m     51\u001b[0m z \u001b[39m=\u001b[39m torch\u001b[39m.\u001b[39mpermute(z, (\u001b[39m0\u001b[39m,\u001b[39m2\u001b[39m,\u001b[39m1\u001b[39m))\n\u001b[0;32m---> 52\u001b[0m _, (h, _) \u001b[39m=\u001b[39m \u001b[39mself\u001b[39;49m\u001b[39m.\u001b[39;49mlstm(z)\n\u001b[1;32m     53\u001b[0m \u001b[39mreturn\u001b[39;00m \u001b[39mself\u001b[39m\u001b[39m.\u001b[39mlin(h[\u001b[39m-\u001b[39m\u001b[39m1\u001b[39m, :, :])\n",
      "File \u001b[0;32m~/miniconda3/envs/SimpleDTA/lib/python3.9/site-packages/torch/nn/modules/module.py:1110\u001b[0m, in \u001b[0;36mModule._call_impl\u001b[0;34m(self, *input, **kwargs)\u001b[0m\n\u001b[1;32m   1106\u001b[0m \u001b[39m# If we don't have any hooks, we want to skip the rest of the logic in\u001b[39;00m\n\u001b[1;32m   1107\u001b[0m \u001b[39m# this function, and just call forward.\u001b[39;00m\n\u001b[1;32m   1108\u001b[0m \u001b[39mif\u001b[39;00m \u001b[39mnot\u001b[39;00m (\u001b[39mself\u001b[39m\u001b[39m.\u001b[39m_backward_hooks \u001b[39mor\u001b[39;00m \u001b[39mself\u001b[39m\u001b[39m.\u001b[39m_forward_hooks \u001b[39mor\u001b[39;00m \u001b[39mself\u001b[39m\u001b[39m.\u001b[39m_forward_pre_hooks \u001b[39mor\u001b[39;00m _global_backward_hooks\n\u001b[1;32m   1109\u001b[0m         \u001b[39mor\u001b[39;00m _global_forward_hooks \u001b[39mor\u001b[39;00m _global_forward_pre_hooks):\n\u001b[0;32m-> 1110\u001b[0m     \u001b[39mreturn\u001b[39;00m forward_call(\u001b[39m*\u001b[39;49m\u001b[39minput\u001b[39;49m, \u001b[39m*\u001b[39;49m\u001b[39m*\u001b[39;49mkwargs)\n\u001b[1;32m   1111\u001b[0m \u001b[39m# Do not call functions when jit is used\u001b[39;00m\n\u001b[1;32m   1112\u001b[0m full_backward_hooks, non_full_backward_hooks \u001b[39m=\u001b[39m [], []\n",
      "File \u001b[0;32m~/miniconda3/envs/SimpleDTA/lib/python3.9/site-packages/torch/nn/modules/rnn.py:761\u001b[0m, in \u001b[0;36mLSTM.forward\u001b[0;34m(self, input, hx)\u001b[0m\n\u001b[1;32m    759\u001b[0m \u001b[39mself\u001b[39m\u001b[39m.\u001b[39mcheck_forward_args(\u001b[39minput\u001b[39m, hx, batch_sizes)\n\u001b[1;32m    760\u001b[0m \u001b[39mif\u001b[39;00m batch_sizes \u001b[39mis\u001b[39;00m \u001b[39mNone\u001b[39;00m:\n\u001b[0;32m--> 761\u001b[0m     result \u001b[39m=\u001b[39m _VF\u001b[39m.\u001b[39;49mlstm(\u001b[39minput\u001b[39;49m, hx, \u001b[39mself\u001b[39;49m\u001b[39m.\u001b[39;49m_flat_weights, \u001b[39mself\u001b[39;49m\u001b[39m.\u001b[39;49mbias, \u001b[39mself\u001b[39;49m\u001b[39m.\u001b[39;49mnum_layers,\n\u001b[1;32m    762\u001b[0m                       \u001b[39mself\u001b[39;49m\u001b[39m.\u001b[39;49mdropout, \u001b[39mself\u001b[39;49m\u001b[39m.\u001b[39;49mtraining, \u001b[39mself\u001b[39;49m\u001b[39m.\u001b[39;49mbidirectional, \u001b[39mself\u001b[39;49m\u001b[39m.\u001b[39;49mbatch_first)\n\u001b[1;32m    763\u001b[0m \u001b[39melse\u001b[39;00m:\n\u001b[1;32m    764\u001b[0m     result \u001b[39m=\u001b[39m _VF\u001b[39m.\u001b[39mlstm(\u001b[39minput\u001b[39m, batch_sizes, hx, \u001b[39mself\u001b[39m\u001b[39m.\u001b[39m_flat_weights, \u001b[39mself\u001b[39m\u001b[39m.\u001b[39mbias,\n\u001b[1;32m    765\u001b[0m                       \u001b[39mself\u001b[39m\u001b[39m.\u001b[39mnum_layers, \u001b[39mself\u001b[39m\u001b[39m.\u001b[39mdropout, \u001b[39mself\u001b[39m\u001b[39m.\u001b[39mtraining, \u001b[39mself\u001b[39m\u001b[39m.\u001b[39mbidirectional)\n",
      "\u001b[0;31mKeyboardInterrupt\u001b[0m: "
     ]
    }
   ],
   "source": [
    "\n",
    "for epoch in range(100): \n",
    "    loss_avg = 0 \n",
    "    tic = time.time() \n",
    "    _y_train = []\n",
    "    _yhat_train = []\n",
    "\n",
    "    for data in train_loader: \n",
    "        optim.zero_grad()\n",
    "        model.train()\n",
    "        data.to('cuda')\n",
    "        yhat = model(data.smiles_idx, data.aa_idx).squeeze(-1)\n",
    "            \n",
    "        loss = crit(yhat, data.y)\n",
    "        loss.backward() \n",
    "        torch.nn.utils.clip_grad_value_(model.parameters(), 1.0)\n",
    "        optim.step()\n",
    "\n",
    "        loss_avg += loss.detach().cpu().numpy().item() / len(train_loader)\n",
    "        _y_train.append( data.y.detach().cpu().numpy() )\n",
    "        _yhat_train.append( yhat.detach().cpu().numpy() ) \n",
    "\n",
    "    with torch.no_grad(): \n",
    "        model.eval()\n",
    "        test_loss = 0 \n",
    "        _y_test = []\n",
    "        _yhat_test = []\n",
    "        for data in test_loader: \n",
    "            data.to('cuda')\n",
    "            yhat = model(data.smiles_idx, data.aa_idx).squeeze(-1)\n",
    "            test_loss += crit(yhat, data.y).detach().cpu().numpy().item() / len(test_loader)\n",
    "\n",
    "            _y_test.append( data.y.detach().cpu().numpy() )\n",
    "            _yhat_test.append( yhat.detach().cpu().numpy() ) \n",
    "\n",
    "    # calc metrics -- train \n",
    "    y_train = np.concatenate(_y_train)\n",
    "    yhat_train = np.concatenate(_yhat_train)\n",
    "    r2_train = r2_score(y_train, yhat_train)\n",
    "    corr_train = np.corrcoef(y_train, yhat_train)[0,1]\n",
    "    #              -- test\n",
    "    y_test = np.concatenate(_y_test)\n",
    "    yhat_test = np.concatenate(_yhat_test)\n",
    "    r2_test = r2_score(y_test, yhat_test)\n",
    "    corr_test = np.corrcoef(y_test, yhat_test)[0,1]\n",
    "    # \n",
    "\n",
    "    print(f'(train, test) || epoch: {epoch} | loss: ({loss_avg:.4f}, {test_loss:.4f}) | r2: ({r2_train:.2f}, {r2_test:.2f}) | corr: ({corr_train:.2f},{corr_test:.2f}) | time/epoch: {time.time()-tic:.1f} s')\n",
    "    tic = time.time()"
   ]
  },
  {
   "cell_type": "code",
   "execution_count": 10,
   "metadata": {},
   "outputs": [
    {
     "name": "stdout",
     "output_type": "stream",
     "text": [
      "False\n",
      "False\n",
      "False\n",
      "True\n"
     ]
    }
   ],
   "source": [
    "'''\n",
    "(train, test) || epoch: 0 | loss: (31.2822, 18.9522) | r2: (-15.28, -8.78) | corr: (0.25,0.36) | time/epoch: 37.6 s\n",
    "(train, test) || epoch: 1 | loss: (7.9772, 2.0388) | r2: (-3.16, -0.05) | corr: (0.25,0.41) | time/epoch: 37.0 s\n",
    "(train, test) || epoch: 2 | loss: (2.5916, 1.6797) | r2: (-0.35, 0.13) | corr: (0.35,0.46) | time/epoch: 36.2 s\n",
    "(train, test) || epoch: 3 | loss: (2.2735, 1.5503) | r2: (-0.18, 0.20) | corr: (0.40,0.49) | time/epoch: 37.1 s\n",
    "(train, test) || epoch: 4 | loss: (2.0295, 1.6185) | r2: (-0.05, 0.17) | corr: (0.45,0.50) | time/epoch: 36.6 s\n",
    "(train, test) || epoch: 5 | loss: (1.8978, 1.6048) | r2: (0.01, 0.18) | corr: (0.48,0.52) | time/epoch: 37.1 s\n",
    "(train, test) || epoch: 6 | loss: (1.7136, 1.4792) | r2: (0.11, 0.24) | corr: (0.52,0.54) | time/epoch: 36.1 s\n",
    "(train, test) || epoch: 7 | loss: (1.6016, 1.3765) | r2: (0.17, 0.29) | corr: (0.55,0.56) | time/epoch: 37.8 s\n",
    "(train, test) || epoch: 8 | loss: (1.4950, 1.5406) | r2: (0.22, 0.20) | corr: (0.57,0.54) | time/epoch: 37.7 s\n",
    "(train, test) || epoch: 9 | loss: (1.4077, 1.2997) | r2: (0.27, 0.33) | corr: (0.60,0.60) | time/epoch: 37.8 s\n",
    "(train, test) || epoch: 10 | loss: (1.3425, 1.4468) | r2: (0.30, 0.26) | corr: (0.61,0.58) | time/epoch: 37.9 s\n",
    "(train, test) || epoch: 11 | loss: (1.2646, 1.4056) | r2: (0.34, 0.28) | corr: (0.63,0.59) | time/epoch: 37.0 s\n",
    "(train, test) || epoch: 12 | loss: (1.1905, 1.3804) | r2: (0.38, 0.29) | corr: (0.66,0.59) | time/epoch: 36.7 s\n",
    "(train, test) || epoch: 13 | loss: (1.1428, 1.4009) | r2: (0.41, 0.28) | corr: (0.67,0.62) | time/epoch: 36.5 s\n",
    "(train, test) || epoch: 14 | loss: (1.0849, 1.5583) | r2: (0.44, 0.20) | corr: (0.69,0.59) | time/epoch: 36.5 s\n",
    "(train, test) || epoch: 15 | loss: (1.0575, 1.4536) | r2: (0.45, 0.25) | corr: (0.69,0.61) | time/epoch: 37.0 s\n",
    "(train, test) || epoch: 16 | loss: (1.0043, 1.6594) | r2: (0.48, 0.15) | corr: (0.71,0.58) | time/epoch: 37.9 s\n",
    "(train, test) || epoch: 17 | loss: (0.9368, 1.6231) | r2: (0.51, 0.16) | corr: (0.73,0.59) | time/epoch: 37.5 s\n",
    "(train, test) || epoch: 18 | loss: (0.9113, 1.5589) | r2: (0.53, 0.20) | corr: (0.74,0.59) | time/epoch: 38.5 s\n",
    "(train, test) || epoch: 19 | loss: (0.8810, 1.6847) | r2: (0.54, 0.13) | corr: (0.75,0.59) | time/epoch: 38.2 s\n",
    "(train, test) || epoch: 20 | loss: (0.8359, 1.5042) | r2: (0.57, 0.22) | corr: (0.76,0.58) | time/epoch: 38.0 s\n",
    "(train, test) || epoch: 21 | loss: (0.8132, 1.4501) | r2: (0.58, 0.25) | corr: (0.77,0.61) | time/epoch: 37.7 s\n",
    "(train, test) || epoch: 22 | loss: (0.7701, 1.4526) | r2: (0.60, 0.25) | corr: (0.78,0.61) | time/epoch: 37.2 s\n",
    "'''"
   ]
  },
  {
   "cell_type": "code",
   "execution_count": null,
   "metadata": {},
   "outputs": [],
   "source": []
  },
  {
   "cell_type": "code",
   "execution_count": 7,
   "metadata": {},
   "outputs": [
    {
     "data": {
      "text/plain": [
       "tensor(0.6889, device='cuda:0', grad_fn=<MseLossBackward0>)"
      ]
     },
     "execution_count": 7,
     "metadata": {},
     "output_type": "execute_result"
    }
   ],
   "source": [
    "loss"
   ]
  },
  {
   "cell_type": "code",
   "execution_count": 9,
   "metadata": {},
   "outputs": [
    {
     "data": {
      "text/plain": [
       "torch.Size([400])"
      ]
     },
     "execution_count": 9,
     "metadata": {},
     "output_type": "execute_result"
    }
   ],
   "source": [
    "yhat.size()"
   ]
  },
  {
   "cell_type": "code",
   "execution_count": 11,
   "metadata": {},
   "outputs": [
    {
     "data": {
      "text/plain": [
       "torch.Size([400])"
      ]
     },
     "execution_count": 11,
     "metadata": {},
     "output_type": "execute_result"
    }
   ],
   "source": [
    "data.y.size()"
   ]
  },
  {
   "cell_type": "code",
   "execution_count": 10,
   "metadata": {},
   "outputs": [
    {
     "data": {
      "image/png": "[encoded data removed]",
      "text/plain": [
       "<Figure size 432x288 with 1 Axes>"
      ]
     },
     "metadata": {
      "needs_background": "light"
     },
     "output_type": "display_data"
    }
   ],
   "source": [
    "\n",
    "plt.figure()\n",
    "plt.plot(y_test, yhat_test, 'b.', alpha=0.01)\n",
    "plt.plot((10,14), (10,14))\n",
    "plt.show()"
   ]
  },
  {
   "cell_type": "code",
   "execution_count": null,
   "metadata": {},
   "outputs": [],
   "source": []
  }
 ],
 "metadata": {
  "kernelspec": {
   "display_name": "Python 3.9.12 ('SimpleDTA')",
   "language": "python",
   "name": "python3"
  },
  "language_info": {
   "codemirror_mode": {
    "name": "ipython",
    "version": 3
   },
   "file_extension": ".py",
   "mimetype": "text/x-python",
   "name": "python",
   "nbconvert_exporter": "python",
   "pygments_lexer": "ipython3",
   "version": "3.9.12"
  },
  "orig_nbformat": 4,
  "vscode": {
   "interpreter": {
    "hash": "968cf5cf332404ad98841a6b6a287037c314c71a319dcb31ec854ef97a0629dc"
   }
  }
 },
 "nbformat": 4,
 "nbformat_minor": 2
}
