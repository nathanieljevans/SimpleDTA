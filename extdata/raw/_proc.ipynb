{
 "cells": [
  {
   "cell_type": "code",
   "execution_count": 28,
   "metadata": {},
   "outputs": [],
   "source": [
    "import pandas as pd \n",
    "from matplotlib import pyplot as plt\n",
    "import numpy as np"
   ]
  },
  {
   "cell_type": "markdown",
   "metadata": {},
   "source": [
    "# Protein Target Space; `mytargets.csv` \n",
    "\n",
    "This will be the targets that will ultimately be predicted on.   \n",
    "\n",
    "> NOTE: there are non-unique mappings from ensembl/gene_symbol to uniprot and therefore each gene_symbol will have multiple sequences - this increases the target space from ~2000 -> ~8000. We will predict on the full 8000 and then aggregate back to gene_symbol after. "
   ]
  },
  {
   "cell_type": "code",
   "execution_count": 10,
   "metadata": {},
   "outputs": [
    {
     "data": {
      "text/plain": [
       "2378"
      ]
     },
     "execution_count": 10,
     "metadata": {},
     "output_type": "execute_result"
    }
   ],
   "source": [
    "# genes from reactome signal transduction pathway \n",
    "genespace= open('./gene-space.txt', 'r').read().split(',')\n",
    "len(genespace)"
   ]
  },
  {
   "cell_type": "code",
   "execution_count": 12,
   "metadata": {},
   "outputs": [],
   "source": [
    "# LINCS/CLUE gene info - filtered to protein coding only and genespace\n",
    "# merge with ens2uni (can be download from ensembl.org - biomart)\n",
    "geneinfo = pd.read_csv('../../data/geneinfo_beta.txt', sep='\\t')[lambda x: x.gene_symbol.isin(genespace) & (x.gene_type == 'protein-coding')]\n",
    "ens2uni = pd.read_csv('./ensembl2uniprot.txt', sep='\\t')[['ensembl_id', 'uniprot_id']]\n",
    "geneinfo = geneinfo.merge(ens2uni, on='ensembl_id', how='left')"
   ]
  },
  {
   "cell_type": "code",
   "execution_count": 13,
   "metadata": {},
   "outputs": [],
   "source": [
    "# Uniprot-provided amino acid sequences \n",
    "# This can be downloaded from uniprot (https://www.uniprot.org/id-mapping/)\n",
    "#   use geneinfo to select a subset of uniprot ids and paste into uniprot for sequences \n",
    "AA = pd.read_csv('./genespace_aa_seq.tsv', sep='\\t')"
   ]
  },
  {
   "cell_type": "code",
   "execution_count": 14,
   "metadata": {},
   "outputs": [
    {
     "name": "stdout",
     "output_type": "stream",
     "text": [
      "(8735, 12)\n"
     ]
    },
    {
     "data": {
      "text/html": [
       "<div>\n",
       "<style scoped>\n",
       "    .dataframe tbody tr th:only-of-type {\n",
       "        vertical-align: middle;\n",
       "    }\n",
       "\n",
       "    .dataframe tbody tr th {\n",
       "        vertical-align: top;\n",
       "    }\n",
       "\n",
       "    .dataframe thead th {\n",
       "        text-align: right;\n",
       "    }\n",
       "</style>\n",
       "<table border=\"1\" class=\"dataframe\">\n",
       "  <thead>\n",
       "    <tr style=\"text-align: right;\">\n",
       "      <th></th>\n",
       "      <th>gene_symbol</th>\n",
       "      <th>gene_id</th>\n",
       "      <th>ensembl_id</th>\n",
       "      <th>uniprot_id</th>\n",
       "      <th>Gene Names</th>\n",
       "      <th>gene_title</th>\n",
       "      <th>gene_type</th>\n",
       "      <th>Reviewed</th>\n",
       "      <th>Entry Name</th>\n",
       "      <th>Organism</th>\n",
       "      <th>Length</th>\n",
       "      <th>Sequence</th>\n",
       "    </tr>\n",
       "  </thead>\n",
       "  <tbody>\n",
       "    <tr>\n",
       "      <th>0</th>\n",
       "      <td>ABL2</td>\n",
       "      <td>27</td>\n",
       "      <td>ENSG00000143322</td>\n",
       "      <td>P42684</td>\n",
       "      <td>ABL2 ABLL ARG</td>\n",
       "      <td>ABL proto-oncogene 2, non-receptor tyrosine ki...</td>\n",
       "      <td>protein-coding</td>\n",
       "      <td>reviewed</td>\n",
       "      <td>ABL2_HUMAN</td>\n",
       "      <td>Homo sapiens (Human)</td>\n",
       "      <td>1182</td>\n",
       "      <td>MGQQVGRVGEAPGLQQPQPRGIRGSSAARPSGRRRDPAGRTTETGF...</td>\n",
       "    </tr>\n",
       "    <tr>\n",
       "      <th>1</th>\n",
       "      <td>ACVR2B</td>\n",
       "      <td>93</td>\n",
       "      <td>ENSG00000114739</td>\n",
       "      <td>Q13705</td>\n",
       "      <td>ACVR2B</td>\n",
       "      <td>activin A receptor type 2B</td>\n",
       "      <td>protein-coding</td>\n",
       "      <td>reviewed</td>\n",
       "      <td>AVR2B_HUMAN</td>\n",
       "      <td>Homo sapiens (Human)</td>\n",
       "      <td>512</td>\n",
       "      <td>MTAPWVALALLWGSLCAGSGRGEAETRECIYYNANWELERTNQSGL...</td>\n",
       "    </tr>\n",
       "    <tr>\n",
       "      <th>2</th>\n",
       "      <td>ADCYAP1</td>\n",
       "      <td>116</td>\n",
       "      <td>ENSG00000141433</td>\n",
       "      <td>P18509</td>\n",
       "      <td>ADCYAP1</td>\n",
       "      <td>adenylate cyclase activating polypeptide 1</td>\n",
       "      <td>protein-coding</td>\n",
       "      <td>reviewed</td>\n",
       "      <td>PACA_HUMAN</td>\n",
       "      <td>Homo sapiens (Human)</td>\n",
       "      <td>176</td>\n",
       "      <td>MTMCSGARLALLVYGIIMHSSVYSSPAAAGLRFPGIRPEEEAYGED...</td>\n",
       "    </tr>\n",
       "    <tr>\n",
       "      <th>3</th>\n",
       "      <td>ADCYAP1R1</td>\n",
       "      <td>117</td>\n",
       "      <td>ENSG00000078549</td>\n",
       "      <td>E9PFU5</td>\n",
       "      <td>ADCYAP1R1</td>\n",
       "      <td>ADCYAP receptor type I</td>\n",
       "      <td>protein-coding</td>\n",
       "      <td>unreviewed</td>\n",
       "      <td>E9PFU5_HUMAN</td>\n",
       "      <td>Homo sapiens (Human)</td>\n",
       "      <td>524</td>\n",
       "      <td>MAGVVHVSLAALLLLPMAPAMHSDCIFKKEQAMCLEKIQRANELMG...</td>\n",
       "    </tr>\n",
       "    <tr>\n",
       "      <th>4</th>\n",
       "      <td>ADCYAP1R1</td>\n",
       "      <td>117</td>\n",
       "      <td>ENSG00000078549</td>\n",
       "      <td>C9JVH3</td>\n",
       "      <td>ADCYAP1R1</td>\n",
       "      <td>ADCYAP receptor type I</td>\n",
       "      <td>protein-coding</td>\n",
       "      <td>unreviewed</td>\n",
       "      <td>C9JVH3_HUMAN</td>\n",
       "      <td>Homo sapiens (Human)</td>\n",
       "      <td>74</td>\n",
       "      <td>MAGVVHVSLAALLLLPMAPAMHSDCIFKKEQAMCLEKIQRANELMG...</td>\n",
       "    </tr>\n",
       "  </tbody>\n",
       "</table>\n",
       "</div>"
      ],
      "text/plain": [
       "  gene_symbol  gene_id       ensembl_id uniprot_id     Gene Names  \\\n",
       "0        ABL2       27  ENSG00000143322     P42684  ABL2 ABLL ARG   \n",
       "1      ACVR2B       93  ENSG00000114739     Q13705         ACVR2B   \n",
       "2     ADCYAP1      116  ENSG00000141433     P18509        ADCYAP1   \n",
       "3   ADCYAP1R1      117  ENSG00000078549     E9PFU5      ADCYAP1R1   \n",
       "4   ADCYAP1R1      117  ENSG00000078549     C9JVH3      ADCYAP1R1   \n",
       "\n",
       "                                          gene_title       gene_type  \\\n",
       "0  ABL proto-oncogene 2, non-receptor tyrosine ki...  protein-coding   \n",
       "1                         activin A receptor type 2B  protein-coding   \n",
       "2         adenylate cyclase activating polypeptide 1  protein-coding   \n",
       "3                             ADCYAP receptor type I  protein-coding   \n",
       "4                             ADCYAP receptor type I  protein-coding   \n",
       "\n",
       "     Reviewed    Entry Name              Organism  Length  \\\n",
       "0    reviewed    ABL2_HUMAN  Homo sapiens (Human)    1182   \n",
       "1    reviewed   AVR2B_HUMAN  Homo sapiens (Human)     512   \n",
       "2    reviewed    PACA_HUMAN  Homo sapiens (Human)     176   \n",
       "3  unreviewed  E9PFU5_HUMAN  Homo sapiens (Human)     524   \n",
       "4  unreviewed  C9JVH3_HUMAN  Homo sapiens (Human)      74   \n",
       "\n",
       "                                            Sequence  \n",
       "0  MGQQVGRVGEAPGLQQPQPRGIRGSSAARPSGRRRDPAGRTTETGF...  \n",
       "1  MTAPWVALALLWGSLCAGSGRGEAETRECIYYNANWELERTNQSGL...  \n",
       "2  MTMCSGARLALLVYGIIMHSSVYSSPAAAGLRFPGIRPEEEAYGED...  \n",
       "3  MAGVVHVSLAALLLLPMAPAMHSDCIFKKEQAMCLEKIQRANELMG...  \n",
       "4  MAGVVHVSLAALLLLPMAPAMHSDCIFKKEQAMCLEKIQRANELMG...  "
      ]
     },
     "execution_count": 14,
     "metadata": {},
     "output_type": "execute_result"
    }
   ],
   "source": [
    "# merge geneinfo and AA sequences \n",
    "geneinfo = geneinfo.merge(AA, left_on='uniprot_id', right_on='From')[['gene_symbol', 'gene_id', 'ensembl_id', 'uniprot_id', 'Gene Names', 'gene_title', 'gene_type', 'Reviewed', 'Entry Name', 'Organism', 'Length', 'Sequence']]\n",
    "print(geneinfo.shape)\n",
    "geneinfo.head()"
   ]
  },
  {
   "cell_type": "code",
   "execution_count": 20,
   "metadata": {},
   "outputs": [],
   "source": [
    "geneinfo.to_csv('../mytargets.csv', index=False)"
   ]
  },
  {
   "cell_type": "markdown",
   "metadata": {},
   "source": [
    "# Drug Space; `mydrugs.csv` \n",
    "\n",
    "This will be the drugs with which we will predict on.\n",
    "\n",
    "The drugs are filtered to whatever is present in `drugspace.txt`"
   ]
  },
  {
   "cell_type": "code",
   "execution_count": 39,
   "metadata": {},
   "outputs": [
    {
     "name": "stdout",
     "output_type": "stream",
     "text": [
      "(668, 4)\n"
     ]
    },
    {
     "data": {
      "text/html": [
       "<div>\n",
       "<style scoped>\n",
       "    .dataframe tbody tr th:only-of-type {\n",
       "        vertical-align: middle;\n",
       "    }\n",
       "\n",
       "    .dataframe tbody tr th {\n",
       "        vertical-align: top;\n",
       "    }\n",
       "\n",
       "    .dataframe thead th {\n",
       "        text-align: right;\n",
       "    }\n",
       "</style>\n",
       "<table border=\"1\" class=\"dataframe\">\n",
       "  <thead>\n",
       "    <tr style=\"text-align: right;\">\n",
       "      <th></th>\n",
       "      <th>pert_id</th>\n",
       "      <th>cmap_name</th>\n",
       "      <th>canonical_smiles</th>\n",
       "      <th>smiles_len</th>\n",
       "    </tr>\n",
       "  </thead>\n",
       "  <tbody>\n",
       "    <tr>\n",
       "      <th>605</th>\n",
       "      <td>BRD-K43002773</td>\n",
       "      <td>GDC-0068</td>\n",
       "      <td>C[C@@H]1C[C@H](C2=C1C(=NC=N2)N3CCN(CC3)C(=O)[C...</td>\n",
       "      <td>75</td>\n",
       "    </tr>\n",
       "    <tr>\n",
       "      <th>608</th>\n",
       "      <td>BRD-A50998626</td>\n",
       "      <td>palomid-529</td>\n",
       "      <td>COc1ccc(COc2cc3oc(=O)c4cc(ccc4c3cc2OC)C(C)O)cc1</td>\n",
       "      <td>47</td>\n",
       "    </tr>\n",
       "    <tr>\n",
       "      <th>610</th>\n",
       "      <td>BRD-K70301465</td>\n",
       "      <td>ibrutinib</td>\n",
       "      <td>Nc1ncnc2n(nc(-c3ccc(Oc4ccccc4)cc3)c12)[C@@H]1C...</td>\n",
       "      <td>61</td>\n",
       "    </tr>\n",
       "    <tr>\n",
       "      <th>626</th>\n",
       "      <td>BRD-K68407802</td>\n",
       "      <td>KIN001-055</td>\n",
       "      <td>COc1cc2ncnc(Nc3cc(Br)c(O)c(Br)c3)c2cc1OC</td>\n",
       "      <td>40</td>\n",
       "    </tr>\n",
       "    <tr>\n",
       "      <th>627</th>\n",
       "      <td>BRD-K42828737</td>\n",
       "      <td>sunitinib</td>\n",
       "      <td>CCN(CC)CCNC(=O)c1c(C)[nH]c(C=C2/C(=O)Nc3ccc(F)...</td>\n",
       "      <td>54</td>\n",
       "    </tr>\n",
       "  </tbody>\n",
       "</table>\n",
       "</div>"
      ],
      "text/plain": [
       "           pert_id    cmap_name  \\\n",
       "605  BRD-K43002773     GDC-0068   \n",
       "608  BRD-A50998626  palomid-529   \n",
       "610  BRD-K70301465    ibrutinib   \n",
       "626  BRD-K68407802   KIN001-055   \n",
       "627  BRD-K42828737    sunitinib   \n",
       "\n",
       "                                      canonical_smiles  smiles_len  \n",
       "605  C[C@@H]1C[C@H](C2=C1C(=NC=N2)N3CCN(CC3)C(=O)[C...          75  \n",
       "608    COc1ccc(COc2cc3oc(=O)c4cc(ccc4c3cc2OC)C(C)O)cc1          47  \n",
       "610  Nc1ncnc2n(nc(-c3ccc(Oc4ccccc4)cc3)c12)[C@@H]1C...          61  \n",
       "626           COc1cc2ncnc(Nc3cc(Br)c(O)c(Br)c3)c2cc1OC          40  \n",
       "627  CCN(CC)CCNC(=O)c1c(C)[nH]c(C=C2/C(=O)Nc3ccc(F)...          54  "
      ]
     },
     "execution_count": 39,
     "metadata": {},
     "output_type": "execute_result"
    }
   ],
   "source": [
    "# drug space \n",
    "drugspace = open('./drug-space.txt', 'r').read().split(',')\n",
    "\n",
    "# LINCS/CLUE compound information \n",
    "druginfo = pd.read_csv('../../data/compoundinfo_beta.txt', sep='\\t')[['pert_id', 'cmap_name', 'canonical_smiles']].drop_duplicates()\n",
    "druginfo = druginfo[lambda x: x.pert_id.isin(drugspace)]\n",
    "druginfo = druginfo[lambda x: ~x.canonical_smiles.isna()]\n",
    "druginfo = druginfo.assign(smiles_len = lambda xx: [len(x) for x in xx.canonical_smiles.values])\n",
    "print(druginfo.shape)\n",
    "druginfo.head()"
   ]
  },
  {
   "cell_type": "code",
   "execution_count": 40,
   "metadata": {},
   "outputs": [],
   "source": [
    "druginfo.to_csv('../mydrugs.csv', index=False)"
   ]
  },
  {
   "cell_type": "markdown",
   "metadata": {},
   "source": [
    "# EDA"
   ]
  },
  {
   "cell_type": "code",
   "execution_count": 41,
   "metadata": {},
   "outputs": [
    {
     "data": {
      "text/plain": [
       "5834980"
      ]
     },
     "execution_count": 41,
     "metadata": {},
     "output_type": "execute_result"
    }
   ],
   "source": [
    "# how many pairwase predictions will we have to make? \n",
    "druginfo.shape[0]*geneinfo.shape[0]"
   ]
  },
  {
   "cell_type": "code",
   "execution_count": 42,
   "metadata": {},
   "outputs": [
    {
     "name": "stdout",
     "output_type": "stream",
     "text": [
      "99th percentile AA length: 2500.6399999999994\n"
     ]
    },
    {
     "data": {
      "image/png": "[encoded data removed]",
      "text/plain": [
       "<Figure size 432x288 with 1 Axes>"
      ]
     },
     "metadata": {
      "needs_background": "light"
     },
     "output_type": "display_data"
    }
   ],
   "source": [
    "# amino acid length distribution \n",
    "\n",
    "a_q99 = np.quantile(geneinfo.Length.values, 0.99)\n",
    "print('99th percentile AA length:', a_q99)\n",
    "\n",
    "plt.figure()\n",
    "plt.hist(geneinfo.Length.values, bins=50)\n",
    "plt.yscale('log')\n",
    "plt.xlabel('AA LENGTH')\n",
    "plt.axvline(a_q99, c='r', label=f'99th percentile [{a_q99:.1f}]')\n",
    "plt.legend()\n",
    "plt.show()"
   ]
  },
  {
   "cell_type": "code",
   "execution_count": 43,
   "metadata": {},
   "outputs": [
    {
     "name": "stdout",
     "output_type": "stream",
     "text": [
      "99th percentile SMILES length: 164.99000000000012\n"
     ]
    },
    {
     "data": {
      "image/png": "[encoded data removed]",
      "text/plain": [
       "<Figure size 432x288 with 1 Axes>"
      ]
     },
     "metadata": {
      "needs_background": "light"
     },
     "output_type": "display_data"
    }
   ],
   "source": [
    "# smiles length dist \n",
    "\n",
    "d_q99 = np.quantile(druginfo.smiles_len.values, 0.99)\n",
    "print('99th percentile SMILES length:', d_q99)\n",
    "\n",
    "plt.figure()\n",
    "plt.hist(druginfo.smiles_len.values, bins=50)\n",
    "plt.xlabel('SMILES LENGTH')\n",
    "plt.yscale('log')\n",
    "plt.axvline(d_q99, c='r', label=f'99th percentile [{d_q99:.1f}]')\n",
    "plt.legend()\n",
    "plt.show()"
   ]
  },
  {
   "cell_type": "code",
   "execution_count": null,
   "metadata": {},
   "outputs": [],
   "source": []
  }
 ],
 "metadata": {
  "kernelspec": {
   "display_name": "Python 3.9.12 ('gnnCDR2')",
   "language": "python",
   "name": "python3"
  },
  "language_info": {
   "codemirror_mode": {
    "name": "ipython",
    "version": 3
   },
   "file_extension": ".py",
   "mimetype": "text/x-python",
   "name": "python",
   "nbconvert_exporter": "python",
   "pygments_lexer": "ipython3",
   "version": "3.9.12"
  },
  "orig_nbformat": 4,
  "vscode": {
   "interpreter": {
    "hash": "76a0c9dfcdac6f7033f25163e0719f5adc499effe4f66a10bc1605bda54b1e1f"
   }
  }
 },
 "nbformat": 4,
 "nbformat_minor": 2
}
