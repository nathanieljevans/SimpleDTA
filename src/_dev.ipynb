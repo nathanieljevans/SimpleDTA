{
 "cells": [
  {
   "cell_type": "code",
   "execution_count": 26,
   "metadata": {},
   "outputs": [],
   "source": [
    "import pandas as pd \n",
    "import config\n",
    "from matplotlib import pyplot as plt \n",
    "import numpy as np"
   ]
  },
  {
   "cell_type": "code",
   "execution_count": 46,
   "metadata": {},
   "outputs": [
    {
     "data": {
      "text/html": [
       "<div>\n",
       "<style scoped>\n",
       "    .dataframe tbody tr th:only-of-type {\n",
       "        vertical-align: middle;\n",
       "    }\n",
       "\n",
       "    .dataframe tbody tr th {\n",
       "        vertical-align: top;\n",
       "    }\n",
       "\n",
       "    .dataframe thead th {\n",
       "        text-align: right;\n",
       "    }\n",
       "</style>\n",
       "<table border=\"1\" class=\"dataframe\">\n",
       "  <thead>\n",
       "    <tr style=\"text-align: right;\">\n",
       "      <th></th>\n",
       "      <th>target</th>\n",
       "      <th>pert_id</th>\n",
       "      <th>pIC50</th>\n",
       "    </tr>\n",
       "  </thead>\n",
       "  <tbody>\n",
       "    <tr>\n",
       "      <th>0</th>\n",
       "      <td>ABL1</td>\n",
       "      <td>BRD-A00546892</td>\n",
       "      <td>4.814454</td>\n",
       "    </tr>\n",
       "    <tr>\n",
       "      <th>1</th>\n",
       "      <td>ABL1</td>\n",
       "      <td>BRD-A01320529</td>\n",
       "      <td>5.220475</td>\n",
       "    </tr>\n",
       "    <tr>\n",
       "      <th>2</th>\n",
       "      <td>ABL1</td>\n",
       "      <td>BRD-A02508087</td>\n",
       "      <td>3.781848</td>\n",
       "    </tr>\n",
       "    <tr>\n",
       "      <th>3</th>\n",
       "      <td>ABL1</td>\n",
       "      <td>BRD-A03249105</td>\n",
       "      <td>7.306915</td>\n",
       "    </tr>\n",
       "    <tr>\n",
       "      <th>4</th>\n",
       "      <td>ABL1</td>\n",
       "      <td>BRD-A04352665</td>\n",
       "      <td>6.035349</td>\n",
       "    </tr>\n",
       "  </tbody>\n",
       "</table>\n",
       "</div>"
      ],
      "text/plain": [
       "  target        pert_id     pIC50\n",
       "0   ABL1  BRD-A00546892  4.814454\n",
       "1   ABL1  BRD-A01320529  5.220475\n",
       "2   ABL1  BRD-A02508087  3.781848\n",
       "3   ABL1  BRD-A03249105  7.306915\n",
       "4   ABL1  BRD-A04352665  6.035349"
      ]
     },
     "execution_count": 46,
     "metadata": {},
     "output_type": "execute_result"
    }
   ],
   "source": [
    "sdta = pd.read_csv('../output/cnn_results_test_WarmProteins.csv')\n",
    "sdta = sdta.drop(['uniprot_id'], axis=1).groupby(['gene_symbol', 'pert_id']).max().reset_index()\n",
    "sdta = sdta.rename({'gene_symbol':'target', 'pred_pIC50':'pIC50'}, axis=1)\n",
    "sdta.head()"
   ]
  },
  {
   "cell_type": "code",
   "execution_count": 47,
   "metadata": {},
   "outputs": [
    {
     "data": {
      "text/plain": [
       "0.4169747525303081"
      ]
     },
     "execution_count": 47,
     "metadata": {},
     "output_type": "execute_result"
    }
   ],
   "source": [
    "(sdta.pIC50 > 6).mean()"
   ]
  },
  {
   "cell_type": "code",
   "execution_count": 48,
   "metadata": {},
   "outputs": [
    {
     "data": {
      "text/plain": [
       "187451"
      ]
     },
     "execution_count": 48,
     "metadata": {},
     "output_type": "execute_result"
    }
   ],
   "source": [
    "(sdta.pIC50 > 6).sum()"
   ]
  },
  {
   "cell_type": "code",
   "execution_count": 49,
   "metadata": {},
   "outputs": [
    {
     "data": {
      "text/html": [
       "<div>\n",
       "<style scoped>\n",
       "    .dataframe tbody tr th:only-of-type {\n",
       "        vertical-align: middle;\n",
       "    }\n",
       "\n",
       "    .dataframe tbody tr th {\n",
       "        vertical-align: top;\n",
       "    }\n",
       "\n",
       "    .dataframe thead th {\n",
       "        text-align: right;\n",
       "    }\n",
       "</style>\n",
       "<table border=\"1\" class=\"dataframe\">\n",
       "  <thead>\n",
       "    <tr style=\"text-align: right;\">\n",
       "      <th></th>\n",
       "      <th>pert_id</th>\n",
       "      <th>target</th>\n",
       "      <th>in_clue</th>\n",
       "    </tr>\n",
       "  </thead>\n",
       "  <tbody>\n",
       "    <tr>\n",
       "      <th>605</th>\n",
       "      <td>BRD-K43002773</td>\n",
       "      <td>AKT3</td>\n",
       "      <td>True</td>\n",
       "    </tr>\n",
       "    <tr>\n",
       "      <th>606</th>\n",
       "      <td>BRD-K43002773</td>\n",
       "      <td>AKT1</td>\n",
       "      <td>True</td>\n",
       "    </tr>\n",
       "    <tr>\n",
       "      <th>607</th>\n",
       "      <td>BRD-K43002773</td>\n",
       "      <td>AKT2</td>\n",
       "      <td>True</td>\n",
       "    </tr>\n",
       "    <tr>\n",
       "      <th>608</th>\n",
       "      <td>BRD-A50998626</td>\n",
       "      <td>MTOR</td>\n",
       "      <td>True</td>\n",
       "    </tr>\n",
       "    <tr>\n",
       "      <th>610</th>\n",
       "      <td>BRD-K70301465</td>\n",
       "      <td>BTK</td>\n",
       "      <td>True</td>\n",
       "    </tr>\n",
       "  </tbody>\n",
       "</table>\n",
       "</div>"
      ],
      "text/plain": [
       "           pert_id target  in_clue\n",
       "605  BRD-K43002773   AKT3     True\n",
       "606  BRD-K43002773   AKT1     True\n",
       "607  BRD-K43002773   AKT2     True\n",
       "608  BRD-A50998626   MTOR     True\n",
       "610  BRD-K70301465    BTK     True"
      ]
     },
     "execution_count": 49,
     "metadata": {},
     "output_type": "execute_result"
    }
   ],
   "source": [
    "clueinfo = pd.read_csv('../data/compoundinfo_beta.txt', sep='\\t')\n",
    "clueinfo = clueinfo[lambda x: x.pert_id.isin(sdta.pert_id.unique())]\n",
    "clueinfo = clueinfo[['pert_id', 'target']]\n",
    "clueinfo = clueinfo.assign(in_clue=True)\n",
    "clueinfo.head()"
   ]
  },
  {
   "cell_type": "code",
   "execution_count": 50,
   "metadata": {},
   "outputs": [
    {
     "data": {
      "text/html": [
       "<div>\n",
       "<style scoped>\n",
       "    .dataframe tbody tr th:only-of-type {\n",
       "        vertical-align: middle;\n",
       "    }\n",
       "\n",
       "    .dataframe tbody tr th {\n",
       "        vertical-align: top;\n",
       "    }\n",
       "\n",
       "    .dataframe thead th {\n",
       "        text-align: right;\n",
       "    }\n",
       "</style>\n",
       "<table border=\"1\" class=\"dataframe\">\n",
       "  <thead>\n",
       "    <tr style=\"text-align: right;\">\n",
       "      <th></th>\n",
       "      <th>target</th>\n",
       "      <th>pert_id</th>\n",
       "      <th>pIC50</th>\n",
       "      <th>in_clue</th>\n",
       "      <th>IC50</th>\n",
       "    </tr>\n",
       "  </thead>\n",
       "  <tbody>\n",
       "    <tr>\n",
       "      <th>0</th>\n",
       "      <td>ABL1</td>\n",
       "      <td>BRD-A00546892</td>\n",
       "      <td>4.814454</td>\n",
       "      <td>False</td>\n",
       "      <td>1.533014e-05</td>\n",
       "    </tr>\n",
       "    <tr>\n",
       "      <th>1</th>\n",
       "      <td>ABL1</td>\n",
       "      <td>BRD-A01320529</td>\n",
       "      <td>5.220475</td>\n",
       "      <td>False</td>\n",
       "      <td>6.019009e-06</td>\n",
       "    </tr>\n",
       "    <tr>\n",
       "      <th>2</th>\n",
       "      <td>ABL1</td>\n",
       "      <td>BRD-A02508087</td>\n",
       "      <td>3.781848</td>\n",
       "      <td>False</td>\n",
       "      <td>1.652542e-04</td>\n",
       "    </tr>\n",
       "    <tr>\n",
       "      <th>3</th>\n",
       "      <td>ABL1</td>\n",
       "      <td>BRD-A03249105</td>\n",
       "      <td>7.306915</td>\n",
       "      <td>False</td>\n",
       "      <td>4.932700e-08</td>\n",
       "    </tr>\n",
       "    <tr>\n",
       "      <th>4</th>\n",
       "      <td>ABL1</td>\n",
       "      <td>BRD-A04352665</td>\n",
       "      <td>6.035349</td>\n",
       "      <td>False</td>\n",
       "      <td>9.218303e-07</td>\n",
       "    </tr>\n",
       "  </tbody>\n",
       "</table>\n",
       "</div>"
      ],
      "text/plain": [
       "  target        pert_id     pIC50  in_clue          IC50\n",
       "0   ABL1  BRD-A00546892  4.814454    False  1.533014e-05\n",
       "1   ABL1  BRD-A01320529  5.220475    False  6.019009e-06\n",
       "2   ABL1  BRD-A02508087  3.781848    False  1.652542e-04\n",
       "3   ABL1  BRD-A03249105  7.306915    False  4.932700e-08\n",
       "4   ABL1  BRD-A04352665  6.035349    False  9.218303e-07"
      ]
     },
     "execution_count": 50,
     "metadata": {},
     "output_type": "execute_result"
    }
   ],
   "source": [
    "res = sdta.merge(clueinfo, on=['target','pert_id'], how='left')\n",
    "res = res.assign(in_clue=lambda x: [y==True for y in x.in_clue])\n",
    "res = res.assign(IC50=lambda x: 10**-x.pIC50)\n",
    "#res = res[lambda x: (x.IC50 < config.affinty_threshold / 1e9) | (x.in_clue)]\n",
    "res.head()"
   ]
  },
  {
   "cell_type": "code",
   "execution_count": 51,
   "metadata": {},
   "outputs": [
    {
     "data": {
      "image/png": "[encoded data removed]",
      "text/plain": [
       "<Figure size 432x288 with 1 Axes>"
      ]
     },
     "metadata": {
      "needs_background": "light"
     },
     "output_type": "display_data"
    }
   ],
   "source": [
    "plt.figure()\n",
    "plt.hist(np.log10(res.IC50.values), bins=100)\n",
    "plt.show()"
   ]
  },
  {
   "cell_type": "code",
   "execution_count": 52,
   "metadata": {},
   "outputs": [
    {
     "data": {
      "image/png": "[encoded data removed]",
      "text/plain": [
       "<Figure size 432x288 with 1 Axes>"
      ]
     },
     "metadata": {
      "needs_background": "light"
     },
     "output_type": "display_data"
    }
   ],
   "source": [
    "plt.figure()\n",
    "plt.hist(res.pIC50.values, bins=100)\n",
    "plt.show()"
   ]
  },
  {
   "cell_type": "code",
   "execution_count": 53,
   "metadata": {},
   "outputs": [
    {
     "data": {
      "image/png": "[encoded data removed]",
      "text/plain": [
       "<Figure size 504x504 with 1 Axes>"
      ]
     },
     "metadata": {
      "needs_background": "light"
     },
     "output_type": "display_data"
    }
   ],
   "source": [
    "plt.figure(figsize=(7,7))\n",
    "plt.hist(res[lambda x: x.in_clue].pIC50.values, bins=100, color='b', alpha=0.6, density=True, label='in_clue')\n",
    "plt.hist(res[lambda x: ~x.in_clue].pIC50.values, bins=100, color='r', alpha=0.4, density=True)\n",
    "plt.axvline(-np.log10(config.affinty_threshold/1e9), c='k', label='DTI threshold')\n",
    "plt.legend()\n",
    "plt.xlabel('pIC50')\n",
    "plt.show()"
   ]
  },
  {
   "cell_type": "code",
   "execution_count": 56,
   "metadata": {},
   "outputs": [
    {
     "data": {
      "text/plain": [
       "0.9353448275862069"
      ]
     },
     "execution_count": 56,
     "metadata": {},
     "output_type": "execute_result"
    }
   ],
   "source": [
    "(res[lambda x: x.in_clue].pIC50.values > 5).mean()"
   ]
  },
  {
   "cell_type": "code",
   "execution_count": null,
   "metadata": {},
   "outputs": [],
   "source": []
  }
 ],
 "metadata": {
  "kernelspec": {
   "display_name": "Python 3.9.12 ('SimpleDTA')",
   "language": "python",
   "name": "python3"
  },
  "language_info": {
   "codemirror_mode": {
    "name": "ipython",
    "version": 3
   },
   "file_extension": ".py",
   "mimetype": "text/x-python",
   "name": "python",
   "nbconvert_exporter": "python",
   "pygments_lexer": "ipython3",
   "version": "3.9.12"
  },
  "orig_nbformat": 4,
  "vscode": {
   "interpreter": {
    "hash": "968cf5cf332404ad98841a6b6a287037c314c71a319dcb31ec854ef97a0629dc"
   }
  }
 },
 "nbformat": 4,
 "nbformat_minor": 2
}
