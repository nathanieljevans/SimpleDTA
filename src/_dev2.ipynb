{
 "cells": [
  {
   "cell_type": "code",
   "execution_count": 13,
   "metadata": {},
   "outputs": [],
   "source": [
    "from tdc.multi_pred import DTI\n",
    "import numpy as np\n",
    "from get_dataloaders import get_dataloaders\n",
    "from SimpleDTA import SimpleDTA\n",
    "import torch\n",
    "from matplotlib import pyplot as plt \n",
    "from sklearn.metrics import r2_score\n",
    "import time \n",
    "import pandas as pd\n",
    "from tdc.utils import uniprot2seq"
   ]
  },
  {
   "cell_type": "code",
   "execution_count": 14,
   "metadata": {},
   "outputs": [
    {
     "data": {
      "text/plain": [
       "6.0"
      ]
     },
     "execution_count": 14,
     "metadata": {},
     "output_type": "execute_result"
    }
   ],
   "source": [
    "-np.log10(1000e-9)"
   ]
  },
  {
   "cell_type": "code",
   "execution_count": 15,
   "metadata": {},
   "outputs": [
    {
     "name": "stderr",
     "output_type": "stream",
     "text": [
      "Found local copy...\n",
      "Loading...\n",
      "Done!\n",
      "To log space...\n"
     ]
    }
   ],
   "source": [
    "data = DTI(name = 'BindingDB_IC50', path='../data/')\n",
    "data.convert_to_log(form = 'binding')\n",
    "ic50 = data.harmonize_affinities('max_affinity')"
   ]
  },
  {
   "cell_type": "code",
   "execution_count": 16,
   "metadata": {},
   "outputs": [
    {
     "data": {
      "text/html": [
       "<div>\n",
       "<style scoped>\n",
       "    .dataframe tbody tr th:only-of-type {\n",
       "        vertical-align: middle;\n",
       "    }\n",
       "\n",
       "    .dataframe tbody tr th {\n",
       "        vertical-align: top;\n",
       "    }\n",
       "\n",
       "    .dataframe thead th {\n",
       "        text-align: right;\n",
       "    }\n",
       "</style>\n",
       "<table border=\"1\" class=\"dataframe\">\n",
       "  <thead>\n",
       "    <tr style=\"text-align: right;\">\n",
       "      <th></th>\n",
       "      <th>gene_symbol</th>\n",
       "      <th>gene_id</th>\n",
       "      <th>ensembl_id</th>\n",
       "      <th>uniprot_id</th>\n",
       "      <th>Gene Names</th>\n",
       "      <th>gene_title</th>\n",
       "      <th>gene_type</th>\n",
       "      <th>Reviewed</th>\n",
       "      <th>Entry Name</th>\n",
       "      <th>Organism</th>\n",
       "      <th>Length</th>\n",
       "      <th>Sequence</th>\n",
       "    </tr>\n",
       "  </thead>\n",
       "  <tbody>\n",
       "    <tr>\n",
       "      <th>0</th>\n",
       "      <td>ABL2</td>\n",
       "      <td>27</td>\n",
       "      <td>ENSG00000143322</td>\n",
       "      <td>P42684</td>\n",
       "      <td>ABL2 ABLL ARG</td>\n",
       "      <td>ABL proto-oncogene 2, non-receptor tyrosine ki...</td>\n",
       "      <td>protein-coding</td>\n",
       "      <td>reviewed</td>\n",
       "      <td>ABL2_HUMAN</td>\n",
       "      <td>Homo sapiens (Human)</td>\n",
       "      <td>1182</td>\n",
       "      <td>MGQQVGRVGEAPGLQQPQPRGIRGSSAARPSGRRRDPAGRTTETGF...</td>\n",
       "    </tr>\n",
       "    <tr>\n",
       "      <th>1</th>\n",
       "      <td>ACVR2B</td>\n",
       "      <td>93</td>\n",
       "      <td>ENSG00000114739</td>\n",
       "      <td>Q13705</td>\n",
       "      <td>ACVR2B</td>\n",
       "      <td>activin A receptor type 2B</td>\n",
       "      <td>protein-coding</td>\n",
       "      <td>reviewed</td>\n",
       "      <td>AVR2B_HUMAN</td>\n",
       "      <td>Homo sapiens (Human)</td>\n",
       "      <td>512</td>\n",
       "      <td>MTAPWVALALLWGSLCAGSGRGEAETRECIYYNANWELERTNQSGL...</td>\n",
       "    </tr>\n",
       "    <tr>\n",
       "      <th>2</th>\n",
       "      <td>ADCYAP1</td>\n",
       "      <td>116</td>\n",
       "      <td>ENSG00000141433</td>\n",
       "      <td>P18509</td>\n",
       "      <td>ADCYAP1</td>\n",
       "      <td>adenylate cyclase activating polypeptide 1</td>\n",
       "      <td>protein-coding</td>\n",
       "      <td>reviewed</td>\n",
       "      <td>PACA_HUMAN</td>\n",
       "      <td>Homo sapiens (Human)</td>\n",
       "      <td>176</td>\n",
       "      <td>MTMCSGARLALLVYGIIMHSSVYSSPAAAGLRFPGIRPEEEAYGED...</td>\n",
       "    </tr>\n",
       "    <tr>\n",
       "      <th>3</th>\n",
       "      <td>ADCYAP1R1</td>\n",
       "      <td>117</td>\n",
       "      <td>ENSG00000078549</td>\n",
       "      <td>E9PFU5</td>\n",
       "      <td>ADCYAP1R1</td>\n",
       "      <td>ADCYAP receptor type I</td>\n",
       "      <td>protein-coding</td>\n",
       "      <td>unreviewed</td>\n",
       "      <td>E9PFU5_HUMAN</td>\n",
       "      <td>Homo sapiens (Human)</td>\n",
       "      <td>524</td>\n",
       "      <td>MAGVVHVSLAALLLLPMAPAMHSDCIFKKEQAMCLEKIQRANELMG...</td>\n",
       "    </tr>\n",
       "    <tr>\n",
       "      <th>4</th>\n",
       "      <td>ADCYAP1R1</td>\n",
       "      <td>117</td>\n",
       "      <td>ENSG00000078549</td>\n",
       "      <td>C9JVH3</td>\n",
       "      <td>ADCYAP1R1</td>\n",
       "      <td>ADCYAP receptor type I</td>\n",
       "      <td>protein-coding</td>\n",
       "      <td>unreviewed</td>\n",
       "      <td>C9JVH3_HUMAN</td>\n",
       "      <td>Homo sapiens (Human)</td>\n",
       "      <td>74</td>\n",
       "      <td>MAGVVHVSLAALLLLPMAPAMHSDCIFKKEQAMCLEKIQRANELMG...</td>\n",
       "    </tr>\n",
       "  </tbody>\n",
       "</table>\n",
       "</div>"
      ],
      "text/plain": [
       "  gene_symbol  gene_id       ensembl_id uniprot_id     Gene Names  \\\n",
       "0        ABL2       27  ENSG00000143322     P42684  ABL2 ABLL ARG   \n",
       "1      ACVR2B       93  ENSG00000114739     Q13705         ACVR2B   \n",
       "2     ADCYAP1      116  ENSG00000141433     P18509        ADCYAP1   \n",
       "3   ADCYAP1R1      117  ENSG00000078549     E9PFU5      ADCYAP1R1   \n",
       "4   ADCYAP1R1      117  ENSG00000078549     C9JVH3      ADCYAP1R1   \n",
       "\n",
       "                                          gene_title       gene_type  \\\n",
       "0  ABL proto-oncogene 2, non-receptor tyrosine ki...  protein-coding   \n",
       "1                         activin A receptor type 2B  protein-coding   \n",
       "2         adenylate cyclase activating polypeptide 1  protein-coding   \n",
       "3                             ADCYAP receptor type I  protein-coding   \n",
       "4                             ADCYAP receptor type I  protein-coding   \n",
       "\n",
       "     Reviewed    Entry Name              Organism  Length  \\\n",
       "0    reviewed    ABL2_HUMAN  Homo sapiens (Human)    1182   \n",
       "1    reviewed   AVR2B_HUMAN  Homo sapiens (Human)     512   \n",
       "2    reviewed    PACA_HUMAN  Homo sapiens (Human)     176   \n",
       "3  unreviewed  E9PFU5_HUMAN  Homo sapiens (Human)     524   \n",
       "4  unreviewed  C9JVH3_HUMAN  Homo sapiens (Human)      74   \n",
       "\n",
       "                                            Sequence  \n",
       "0  MGQQVGRVGEAPGLQQPQPRGIRGSSAARPSGRRRDPAGRTTETGF...  \n",
       "1  MTAPWVALALLWGSLCAGSGRGEAETRECIYYNANWELERTNQSGL...  \n",
       "2  MTMCSGARLALLVYGIIMHSSVYSSPAAAGLRFPGIRPEEEAYGED...  \n",
       "3  MAGVVHVSLAALLLLPMAPAMHSDCIFKKEQAMCLEKIQRANELMG...  \n",
       "4  MAGVVHVSLAALLLLPMAPAMHSDCIFKKEQAMCLEKIQRANELMG...  "
      ]
     },
     "execution_count": 16,
     "metadata": {},
     "output_type": "execute_result"
    }
   ],
   "source": [
    "mytargets = pd.read_csv('../extdata/mytargets.csv')\n",
    "mytargets.head()"
   ]
  },
  {
   "cell_type": "code",
   "execution_count": 17,
   "metadata": {},
   "outputs": [
    {
     "data": {
      "text/html": [
       "<div>\n",
       "<style scoped>\n",
       "    .dataframe tbody tr th:only-of-type {\n",
       "        vertical-align: middle;\n",
       "    }\n",
       "\n",
       "    .dataframe tbody tr th {\n",
       "        vertical-align: top;\n",
       "    }\n",
       "\n",
       "    .dataframe thead th {\n",
       "        text-align: right;\n",
       "    }\n",
       "</style>\n",
       "<table border=\"1\" class=\"dataframe\">\n",
       "  <thead>\n",
       "    <tr style=\"text-align: right;\">\n",
       "      <th></th>\n",
       "      <th>pert_id</th>\n",
       "      <th>cmap_name</th>\n",
       "      <th>canonical_smiles</th>\n",
       "      <th>smiles_len</th>\n",
       "    </tr>\n",
       "  </thead>\n",
       "  <tbody>\n",
       "    <tr>\n",
       "      <th>0</th>\n",
       "      <td>BRD-K43002773</td>\n",
       "      <td>GDC-0068</td>\n",
       "      <td>C[C@@H]1C[C@H](C2=C1C(=NC=N2)N3CCN(CC3)C(=O)[C...</td>\n",
       "      <td>75</td>\n",
       "    </tr>\n",
       "    <tr>\n",
       "      <th>1</th>\n",
       "      <td>BRD-A50998626</td>\n",
       "      <td>palomid-529</td>\n",
       "      <td>COc1ccc(COc2cc3oc(=O)c4cc(ccc4c3cc2OC)C(C)O)cc1</td>\n",
       "      <td>47</td>\n",
       "    </tr>\n",
       "    <tr>\n",
       "      <th>2</th>\n",
       "      <td>BRD-K70301465</td>\n",
       "      <td>ibrutinib</td>\n",
       "      <td>Nc1ncnc2n(nc(-c3ccc(Oc4ccccc4)cc3)c12)[C@@H]1C...</td>\n",
       "      <td>61</td>\n",
       "    </tr>\n",
       "    <tr>\n",
       "      <th>3</th>\n",
       "      <td>BRD-K68407802</td>\n",
       "      <td>KIN001-055</td>\n",
       "      <td>COc1cc2ncnc(Nc3cc(Br)c(O)c(Br)c3)c2cc1OC</td>\n",
       "      <td>40</td>\n",
       "    </tr>\n",
       "    <tr>\n",
       "      <th>4</th>\n",
       "      <td>BRD-K42828737</td>\n",
       "      <td>sunitinib</td>\n",
       "      <td>CCN(CC)CCNC(=O)c1c(C)[nH]c(C=C2/C(=O)Nc3ccc(F)...</td>\n",
       "      <td>54</td>\n",
       "    </tr>\n",
       "  </tbody>\n",
       "</table>\n",
       "</div>"
      ],
      "text/plain": [
       "         pert_id    cmap_name  \\\n",
       "0  BRD-K43002773     GDC-0068   \n",
       "1  BRD-A50998626  palomid-529   \n",
       "2  BRD-K70301465    ibrutinib   \n",
       "3  BRD-K68407802   KIN001-055   \n",
       "4  BRD-K42828737    sunitinib   \n",
       "\n",
       "                                    canonical_smiles  smiles_len  \n",
       "0  C[C@@H]1C[C@H](C2=C1C(=NC=N2)N3CCN(CC3)C(=O)[C...          75  \n",
       "1    COc1ccc(COc2cc3oc(=O)c4cc(ccc4c3cc2OC)C(C)O)cc1          47  \n",
       "2  Nc1ncnc2n(nc(-c3ccc(Oc4ccccc4)cc3)c12)[C@@H]1C...          61  \n",
       "3           COc1cc2ncnc(Nc3cc(Br)c(O)c(Br)c3)c2cc1OC          40  \n",
       "4  CCN(CC)CCNC(=O)c1c(C)[nH]c(C=C2/C(=O)Nc3ccc(F)...          54  "
      ]
     },
     "execution_count": 17,
     "metadata": {},
     "output_type": "execute_result"
    }
   ],
   "source": [
    "mydrugs = pd.read_csv('../extdata/mydrugs.csv')\n",
    "mydrugs.head()"
   ]
  },
  {
   "cell_type": "code",
   "execution_count": 18,
   "metadata": {},
   "outputs": [
    {
     "name": "stdout",
     "output_type": "stream",
     "text": [
      "5834980\n"
     ]
    },
    {
     "data": {
      "text/html": [
       "<div>\n",
       "<style scoped>\n",
       "    .dataframe tbody tr th:only-of-type {\n",
       "        vertical-align: middle;\n",
       "    }\n",
       "\n",
       "    .dataframe tbody tr th {\n",
       "        vertical-align: top;\n",
       "    }\n",
       "\n",
       "    .dataframe thead th {\n",
       "        text-align: right;\n",
       "    }\n",
       "</style>\n",
       "<table border=\"1\" class=\"dataframe\">\n",
       "  <thead>\n",
       "    <tr style=\"text-align: right;\">\n",
       "      <th></th>\n",
       "      <th>gene_symbol</th>\n",
       "      <th>uniprot_id</th>\n",
       "      <th>Target</th>\n",
       "      <th>pert_id</th>\n",
       "      <th>Drug</th>\n",
       "    </tr>\n",
       "  </thead>\n",
       "  <tbody>\n",
       "    <tr>\n",
       "      <th>0</th>\n",
       "      <td>ABL2</td>\n",
       "      <td>P42684</td>\n",
       "      <td>MGQQVGRVGEAPGLQQPQPRGIRGSSAARPSGRRRDPAGRTTETGF...</td>\n",
       "      <td>BRD-K43002773</td>\n",
       "      <td>C[C@@H]1C[C@H](C2=C1C(=NC=N2)N3CCN(CC3)C(=O)[C...</td>\n",
       "    </tr>\n",
       "    <tr>\n",
       "      <th>1</th>\n",
       "      <td>ABL2</td>\n",
       "      <td>P42684</td>\n",
       "      <td>MGQQVGRVGEAPGLQQPQPRGIRGSSAARPSGRRRDPAGRTTETGF...</td>\n",
       "      <td>BRD-A50998626</td>\n",
       "      <td>COc1ccc(COc2cc3oc(=O)c4cc(ccc4c3cc2OC)C(C)O)cc1</td>\n",
       "    </tr>\n",
       "    <tr>\n",
       "      <th>2</th>\n",
       "      <td>ABL2</td>\n",
       "      <td>P42684</td>\n",
       "      <td>MGQQVGRVGEAPGLQQPQPRGIRGSSAARPSGRRRDPAGRTTETGF...</td>\n",
       "      <td>BRD-K70301465</td>\n",
       "      <td>Nc1ncnc2n(nc(-c3ccc(Oc4ccccc4)cc3)c12)[C@@H]1C...</td>\n",
       "    </tr>\n",
       "    <tr>\n",
       "      <th>3</th>\n",
       "      <td>ABL2</td>\n",
       "      <td>P42684</td>\n",
       "      <td>MGQQVGRVGEAPGLQQPQPRGIRGSSAARPSGRRRDPAGRTTETGF...</td>\n",
       "      <td>BRD-K68407802</td>\n",
       "      <td>COc1cc2ncnc(Nc3cc(Br)c(O)c(Br)c3)c2cc1OC</td>\n",
       "    </tr>\n",
       "    <tr>\n",
       "      <th>4</th>\n",
       "      <td>ABL2</td>\n",
       "      <td>P42684</td>\n",
       "      <td>MGQQVGRVGEAPGLQQPQPRGIRGSSAARPSGRRRDPAGRTTETGF...</td>\n",
       "      <td>BRD-K42828737</td>\n",
       "      <td>CCN(CC)CCNC(=O)c1c(C)[nH]c(C=C2/C(=O)Nc3ccc(F)...</td>\n",
       "    </tr>\n",
       "  </tbody>\n",
       "</table>\n",
       "</div>"
      ],
      "text/plain": [
       "  gene_symbol uniprot_id                                             Target  \\\n",
       "0        ABL2     P42684  MGQQVGRVGEAPGLQQPQPRGIRGSSAARPSGRRRDPAGRTTETGF...   \n",
       "1        ABL2     P42684  MGQQVGRVGEAPGLQQPQPRGIRGSSAARPSGRRRDPAGRTTETGF...   \n",
       "2        ABL2     P42684  MGQQVGRVGEAPGLQQPQPRGIRGSSAARPSGRRRDPAGRTTETGF...   \n",
       "3        ABL2     P42684  MGQQVGRVGEAPGLQQPQPRGIRGSSAARPSGRRRDPAGRTTETGF...   \n",
       "4        ABL2     P42684  MGQQVGRVGEAPGLQQPQPRGIRGSSAARPSGRRRDPAGRTTETGF...   \n",
       "\n",
       "         pert_id                                               Drug  \n",
       "0  BRD-K43002773  C[C@@H]1C[C@H](C2=C1C(=NC=N2)N3CCN(CC3)C(=O)[C...  \n",
       "1  BRD-A50998626    COc1ccc(COc2cc3oc(=O)c4cc(ccc4c3cc2OC)C(C)O)cc1  \n",
       "2  BRD-K70301465  Nc1ncnc2n(nc(-c3ccc(Oc4ccccc4)cc3)c12)[C@@H]1C...  \n",
       "3  BRD-K68407802           COc1cc2ncnc(Nc3cc(Br)c(O)c(Br)c3)c2cc1OC  \n",
       "4  BRD-K42828737  CCN(CC)CCNC(=O)c1c(C)[nH]c(C=C2/C(=O)Nc3ccc(F)...  "
      ]
     },
     "execution_count": 18,
     "metadata": {},
     "output_type": "execute_result"
    }
   ],
   "source": [
    "split = mytargets[['gene_symbol','uniprot_id', 'Sequence']].merge(mydrugs[['pert_id', 'canonical_smiles']], how='cross')\n",
    "split = split.rename({'Sequence':'Target', 'canonical_smiles': 'Drug'}, axis=1)\n",
    "print(len(split))\n",
    "split.head()"
   ]
  },
  {
   "cell_type": "code",
   "execution_count": 19,
   "metadata": {},
   "outputs": [
    {
     "data": {
      "text/plain": [
       "676"
      ]
     },
     "execution_count": 19,
     "metadata": {},
     "output_type": "execute_result"
    }
   ],
   "source": [
    "# how many of the proteins in BindingDB_IC50 are in our gene-space? \n",
    "\n",
    "train_geneset_overlap = set(ic50.Target_ID.values).intersection(set(mytargets.uniprot_id.values))\n",
    "len(train_geneset_overlap)\n"
   ]
  },
  {
   "cell_type": "code",
   "execution_count": 20,
   "metadata": {},
   "outputs": [
    {
     "data": {
      "text/plain": [
       "76"
      ]
     },
     "execution_count": 20,
     "metadata": {},
     "output_type": "execute_result"
    }
   ],
   "source": [
    "# how many of the drugs in BindingDB_IC50 are in our drug-space? \n",
    "\n",
    "train_drugset_overlap = set(ic50.Drug.values).intersection(mydrugs.canonical_smiles.values)\n",
    "len(train_drugset_overlap)"
   ]
  },
  {
   "cell_type": "code",
   "execution_count": 25,
   "metadata": {},
   "outputs": [
    {
     "name": "stderr",
     "output_type": "stream",
     "text": [
      "Found local copy...\n",
      "Loading...\n",
      "Done!\n",
      "To log space...\n"
     ]
    },
    {
     "data": {
      "text/html": [
       "<div>\n",
       "<style scoped>\n",
       "    .dataframe tbody tr th:only-of-type {\n",
       "        vertical-align: middle;\n",
       "    }\n",
       "\n",
       "    .dataframe tbody tr th {\n",
       "        vertical-align: top;\n",
       "    }\n",
       "\n",
       "    .dataframe thead th {\n",
       "        text-align: right;\n",
       "    }\n",
       "</style>\n",
       "<table border=\"1\" class=\"dataframe\">\n",
       "  <thead>\n",
       "    <tr style=\"text-align: right;\">\n",
       "      <th></th>\n",
       "      <th>Drug_ID</th>\n",
       "      <th>Drug</th>\n",
       "      <th>Target_ID</th>\n",
       "      <th>Target</th>\n",
       "      <th>Y</th>\n",
       "    </tr>\n",
       "  </thead>\n",
       "  <tbody>\n",
       "    <tr>\n",
       "      <th>0</th>\n",
       "      <td>51.0</td>\n",
       "      <td>O=C(O)CCC(=O)C(=O)O</td>\n",
       "      <td>Q9GZT9</td>\n",
       "      <td>MANDSGGPGGPSPSERDRQYCELCGKMENLLRCSRCRSSFYCCKEH...</td>\n",
       "      <td>5.657558</td>\n",
       "    </tr>\n",
       "    <tr>\n",
       "      <th>1</th>\n",
       "      <td>187.0</td>\n",
       "      <td>CC(=O)OCC[N+](C)(C)C</td>\n",
       "      <td>P11229</td>\n",
       "      <td>MNTSAPPAVSPNITVLAPGKGPWQVAFIGITTGLLSLATVTGNLLV...</td>\n",
       "      <td>4.759998</td>\n",
       "    </tr>\n",
       "    <tr>\n",
       "      <th>2</th>\n",
       "      <td>187.0</td>\n",
       "      <td>CC(=O)OCC[N+](C)(C)C</td>\n",
       "      <td>P58154</td>\n",
       "      <td>MRRNIFCLACLWIVQACLSLDRADILYNIRQTSRPDVIPTQRDRPV...</td>\n",
       "      <td>5.414528</td>\n",
       "    </tr>\n",
       "    <tr>\n",
       "      <th>3</th>\n",
       "      <td>237.0</td>\n",
       "      <td>CCN(CC)CCCC(C)Nc1c2ccc(Cl)cc2nc2ccc(OC)cc12</td>\n",
       "      <td>P02752</td>\n",
       "      <td>MLRFAITLFAVITSSTCQQYGCLEGDTHKANPSPEPNMHECTLYSE...</td>\n",
       "      <td>6.578232</td>\n",
       "    </tr>\n",
       "    <tr>\n",
       "      <th>4</th>\n",
       "      <td>242.0</td>\n",
       "      <td>O=C([O-])c1ccccc1</td>\n",
       "      <td>P14920</td>\n",
       "      <td>MRVVVIGAGVIGLSTALCIHERYHSVLQPLDIKVYADRFTPLTTTD...</td>\n",
       "      <td>5.045753</td>\n",
       "    </tr>\n",
       "  </tbody>\n",
       "</table>\n",
       "</div>"
      ],
      "text/plain": [
       "   Drug_ID                                         Drug Target_ID  \\\n",
       "0     51.0                          O=C(O)CCC(=O)C(=O)O    Q9GZT9   \n",
       "1    187.0                         CC(=O)OCC[N+](C)(C)C    P11229   \n",
       "2    187.0                         CC(=O)OCC[N+](C)(C)C    P58154   \n",
       "3    237.0  CCN(CC)CCCC(C)Nc1c2ccc(Cl)cc2nc2ccc(OC)cc12    P02752   \n",
       "4    242.0                            O=C([O-])c1ccccc1    P14920   \n",
       "\n",
       "                                              Target         Y  \n",
       "0  MANDSGGPGGPSPSERDRQYCELCGKMENLLRCSRCRSSFYCCKEH...  5.657558  \n",
       "1  MNTSAPPAVSPNITVLAPGKGPWQVAFIGITTGLLSLATVTGNLLV...  4.759998  \n",
       "2  MRRNIFCLACLWIVQACLSLDRADILYNIRQTSRPDVIPTQRDRPV...  5.414528  \n",
       "3  MLRFAITLFAVITSSTCQQYGCLEGDTHKANPSPEPNMHECTLYSE...  6.578232  \n",
       "4  MRVVVIGAGVIGLSTALCIHERYHSVLQPLDIKVYADRFTPLTTTD...  5.045753  "
      ]
     },
     "execution_count": 25,
     "metadata": {},
     "output_type": "execute_result"
    }
   ],
   "source": [
    "data = DTI(name = 'BindingDB_Kd', path='../data/')\n",
    "data.convert_to_log(form = 'binding')\n",
    "kd = data.harmonize_affinities('max_affinity')\n",
    "kd.head()"
   ]
  },
  {
   "cell_type": "code",
   "execution_count": 26,
   "metadata": {},
   "outputs": [
    {
     "name": "stderr",
     "output_type": "stream",
     "text": [
      "No artists with labels found to put in legend.  Note that artists whose label start with an underscore are ignored when legend() is called with no argument.\n"
     ]
    },
    {
     "data": {
      "image/png": "[encoded data removed]",
      "text/plain": [
       "<Figure size 432x288 with 1 Axes>"
      ]
     },
     "metadata": {
      "needs_background": "light"
     },
     "output_type": "display_data"
    }
   ],
   "source": [
    "plt.figure()\n",
    "plt.hist(kd.Y, bins=100)\n",
    "plt.yscale('log')\n",
    "plt.xlabel('kd')\n",
    "plt.legend()\n",
    "plt.show()"
   ]
  },
  {
   "cell_type": "code",
   "execution_count": 22,
   "metadata": {},
   "outputs": [
    {
     "data": {
      "text/html": [
       "<div>\n",
       "<style scoped>\n",
       "    .dataframe tbody tr th:only-of-type {\n",
       "        vertical-align: middle;\n",
       "    }\n",
       "\n",
       "    .dataframe tbody tr th {\n",
       "        vertical-align: top;\n",
       "    }\n",
       "\n",
       "    .dataframe thead th {\n",
       "        text-align: right;\n",
       "    }\n",
       "</style>\n",
       "<table border=\"1\" class=\"dataframe\">\n",
       "  <thead>\n",
       "    <tr style=\"text-align: right;\">\n",
       "      <th></th>\n",
       "      <th>Drug_ID_x</th>\n",
       "      <th>Drug</th>\n",
       "      <th>Target_ID_x</th>\n",
       "      <th>Target</th>\n",
       "      <th>pkd</th>\n",
       "      <th>Drug_ID_y</th>\n",
       "      <th>Target_ID_y</th>\n",
       "      <th>pic50</th>\n",
       "    </tr>\n",
       "  </thead>\n",
       "  <tbody>\n",
       "    <tr>\n",
       "      <th>0</th>\n",
       "      <td>242.0</td>\n",
       "      <td>O=C([O-])c1ccccc1</td>\n",
       "      <td>P14920</td>\n",
       "      <td>MRVVVIGAGVIGLSTALCIHERYHSVLQPLDIKVYADRFTPLTTTD...</td>\n",
       "      <td>5.045753</td>\n",
       "      <td>242.0</td>\n",
       "      <td>P14920</td>\n",
       "      <td>4.182434</td>\n",
       "    </tr>\n",
       "    <tr>\n",
       "      <th>1</th>\n",
       "      <td>572.0</td>\n",
       "      <td>O=CN(O)CCCP(=O)(O)O</td>\n",
       "      <td>P9WNS1</td>\n",
       "      <td>MTNSTDGRADGRLRVVVLGSTGSIGTQALQVIADNPDRFEVVGLAA...</td>\n",
       "      <td>7.396856</td>\n",
       "      <td>572.0</td>\n",
       "      <td>P9WNS1</td>\n",
       "      <td>6.356449</td>\n",
       "    </tr>\n",
       "    <tr>\n",
       "      <th>2</th>\n",
       "      <td>985.0</td>\n",
       "      <td>CCCCCCCCCCCCCCCC(=O)O</td>\n",
       "      <td>P15090</td>\n",
       "      <td>MCDAFVGTWKLVSSENFDDYMKEVGVGFATRKVAGMAKPNMIISVN...</td>\n",
       "      <td>4.080921</td>\n",
       "      <td>985.0</td>\n",
       "      <td>P15090</td>\n",
       "      <td>6.031470</td>\n",
       "    </tr>\n",
       "    <tr>\n",
       "      <th>3</th>\n",
       "      <td>985.0</td>\n",
       "      <td>CCCCCCCCCCCCCCCC(=O)O</td>\n",
       "      <td>Q01469</td>\n",
       "      <td>MATVQQLEGRWRLVDSKGFDEYMKELGVGIALRKMGAMAKPDCIIT...</td>\n",
       "      <td>6.095771</td>\n",
       "      <td>985.0</td>\n",
       "      <td>Q01469</td>\n",
       "      <td>5.920783</td>\n",
       "    </tr>\n",
       "    <tr>\n",
       "      <th>4</th>\n",
       "      <td>1049.0</td>\n",
       "      <td>c1ccncc1</td>\n",
       "      <td>P08684</td>\n",
       "      <td>MALIPDLAMETWLLLAVSLVLLYLYGTHSHGLFKKLGIPGPTPLPF...</td>\n",
       "      <td>2.346787</td>\n",
       "      <td>1049.0</td>\n",
       "      <td>P08684</td>\n",
       "      <td>2.397940</td>\n",
       "    </tr>\n",
       "  </tbody>\n",
       "</table>\n",
       "</div>"
      ],
      "text/plain": [
       "   Drug_ID_x                   Drug Target_ID_x  \\\n",
       "0      242.0      O=C([O-])c1ccccc1      P14920   \n",
       "1      572.0    O=CN(O)CCCP(=O)(O)O      P9WNS1   \n",
       "2      985.0  CCCCCCCCCCCCCCCC(=O)O      P15090   \n",
       "3      985.0  CCCCCCCCCCCCCCCC(=O)O      Q01469   \n",
       "4     1049.0               c1ccncc1      P08684   \n",
       "\n",
       "                                              Target       pkd  Drug_ID_y  \\\n",
       "0  MRVVVIGAGVIGLSTALCIHERYHSVLQPLDIKVYADRFTPLTTTD...  5.045753      242.0   \n",
       "1  MTNSTDGRADGRLRVVVLGSTGSIGTQALQVIADNPDRFEVVGLAA...  7.396856      572.0   \n",
       "2  MCDAFVGTWKLVSSENFDDYMKEVGVGFATRKVAGMAKPNMIISVN...  4.080921      985.0   \n",
       "3  MATVQQLEGRWRLVDSKGFDEYMKELGVGIALRKMGAMAKPDCIIT...  6.095771      985.0   \n",
       "4  MALIPDLAMETWLLLAVSLVLLYLYGTHSHGLFKKLGIPGPTPLPF...  2.346787     1049.0   \n",
       "\n",
       "  Target_ID_y     pic50  \n",
       "0      P14920  4.182434  \n",
       "1      P9WNS1  6.356449  \n",
       "2      P15090  6.031470  \n",
       "3      Q01469  5.920783  \n",
       "4      P08684  2.397940  "
      ]
     },
     "execution_count": 22,
     "metadata": {},
     "output_type": "execute_result"
    }
   ],
   "source": [
    "kd = kd.rename({'Y':'pkd'}, axis=1)\n",
    "ic50 = ic50.rename({'Y':'pic50'}, axis=1)\n",
    "res = kd.merge(ic50, on=['Drug', 'Target'])\n",
    "res.head()"
   ]
  },
  {
   "cell_type": "code",
   "execution_count": 23,
   "metadata": {},
   "outputs": [
    {
     "name": "stdout",
     "output_type": "stream",
     "text": [
      "6.114582234889064\n"
     ]
    },
    {
     "data": {
      "image/png": "[encoded data removed]",
      "text/plain": [
       "<Figure size 432x288 with 1 Axes>"
      ]
     },
     "metadata": {
      "needs_background": "light"
     },
     "output_type": "display_data"
    }
   ],
   "source": [
    "print(np.quantile(res.pic50, 0.5))\n",
    "\n",
    "plt.figure()\n",
    "plt.hist(res.pic50, bins=100)\n",
    "plt.yscale('log')\n",
    "plt.xlabel('pIC50')\n",
    "plt.axvline(np.quantile(res.pic50, 0.05), c='r', label=f'5th percentile ({np.quantile(res.pic50, 0.05):.1f} pIC50)')\n",
    "plt.legend()\n",
    "plt.show()"
   ]
  },
  {
   "cell_type": "code",
   "execution_count": 20,
   "metadata": {},
   "outputs": [
    {
     "data": {
      "image/png": "[encoded data removed]",
      "text/plain": [
       "<Figure size 432x288 with 1 Axes>"
      ]
     },
     "metadata": {
      "needs_background": "light"
     },
     "output_type": "display_data"
    }
   ],
   "source": [
    "plt.figure()\n",
    "plt.plot(res.pkd, res.pic50, 'b.', alpha=0.2)\n",
    "plt.plot((0,10), (0,10))\n",
    "plt.xlabel('pKd')\n",
    "plt.ylabel('pIC50')\n",
    "plt.show()"
   ]
  },
  {
   "cell_type": "code",
   "execution_count": 21,
   "metadata": {},
   "outputs": [
    {
     "data": {
      "text/plain": [
       "0.4695536756249411"
      ]
     },
     "execution_count": 21,
     "metadata": {},
     "output_type": "execute_result"
    }
   ],
   "source": [
    "r2_score(res.pkd, res.pic50)"
   ]
  },
  {
   "cell_type": "code",
   "execution_count": 22,
   "metadata": {},
   "outputs": [
    {
     "data": {
      "text/plain": [
       "0.7575781834282408"
      ]
     },
     "execution_count": 22,
     "metadata": {},
     "output_type": "execute_result"
    }
   ],
   "source": [
    "np.corrcoef(res.pkd, res.pic50)[0,1]"
   ]
  },
  {
   "cell_type": "code",
   "execution_count": 52,
   "metadata": {},
   "outputs": [
    {
     "data": {
      "text/html": [
       "<div>\n",
       "<style scoped>\n",
       "    .dataframe tbody tr th:only-of-type {\n",
       "        vertical-align: middle;\n",
       "    }\n",
       "\n",
       "    .dataframe tbody tr th {\n",
       "        vertical-align: top;\n",
       "    }\n",
       "\n",
       "    .dataframe thead th {\n",
       "        text-align: right;\n",
       "    }\n",
       "</style>\n",
       "<table border=\"1\" class=\"dataframe\">\n",
       "  <thead>\n",
       "    <tr style=\"text-align: right;\">\n",
       "      <th></th>\n",
       "      <th>ensembl_id</th>\n",
       "      <th>gene_name</th>\n",
       "      <th>uniprot_id</th>\n",
       "    </tr>\n",
       "  </thead>\n",
       "  <tbody>\n",
       "    <tr>\n",
       "      <th>0</th>\n",
       "      <td>ENSG00000198888</td>\n",
       "      <td>MT-ND1</td>\n",
       "      <td>P03886</td>\n",
       "    </tr>\n",
       "    <tr>\n",
       "      <th>1</th>\n",
       "      <td>ENSG00000198888</td>\n",
       "      <td>MT-ND1</td>\n",
       "      <td>U5Z754</td>\n",
       "    </tr>\n",
       "    <tr>\n",
       "      <th>2</th>\n",
       "      <td>ENSG00000198763</td>\n",
       "      <td>MT-ND2</td>\n",
       "      <td>A0A1X7RBG6</td>\n",
       "    </tr>\n",
       "    <tr>\n",
       "      <th>3</th>\n",
       "      <td>ENSG00000198763</td>\n",
       "      <td>MT-ND2</td>\n",
       "      <td>P03891</td>\n",
       "    </tr>\n",
       "    <tr>\n",
       "      <th>4</th>\n",
       "      <td>ENSG00000198763</td>\n",
       "      <td>MT-ND2</td>\n",
       "      <td>Q7GXY9</td>\n",
       "    </tr>\n",
       "    <tr>\n",
       "      <th>...</th>\n",
       "      <td>...</td>\n",
       "      <td>...</td>\n",
       "      <td>...</td>\n",
       "    </tr>\n",
       "    <tr>\n",
       "      <th>88488</th>\n",
       "      <td>ENSG00000117682</td>\n",
       "      <td>DHDDS</td>\n",
       "      <td>E9PR24</td>\n",
       "    </tr>\n",
       "    <tr>\n",
       "      <th>88489</th>\n",
       "      <td>ENSG00000117682</td>\n",
       "      <td>DHDDS</td>\n",
       "      <td>E9PSH7</td>\n",
       "    </tr>\n",
       "    <tr>\n",
       "      <th>88490</th>\n",
       "      <td>ENSG00000117682</td>\n",
       "      <td>DHDDS</td>\n",
       "      <td>Q5T0A2</td>\n",
       "    </tr>\n",
       "    <tr>\n",
       "      <th>88491</th>\n",
       "      <td>ENSG00000117682</td>\n",
       "      <td>DHDDS</td>\n",
       "      <td>Q5T0A0</td>\n",
       "    </tr>\n",
       "    <tr>\n",
       "      <th>88492</th>\n",
       "      <td>ENSG00000117682</td>\n",
       "      <td>DHDDS</td>\n",
       "      <td>Q5T0A3</td>\n",
       "    </tr>\n",
       "  </tbody>\n",
       "</table>\n",
       "<p>88493 rows × 3 columns</p>\n",
       "</div>"
      ],
      "text/plain": [
       "            ensembl_id gene_name  uniprot_id\n",
       "0      ENSG00000198888    MT-ND1      P03886\n",
       "1      ENSG00000198888    MT-ND1      U5Z754\n",
       "2      ENSG00000198763    MT-ND2  A0A1X7RBG6\n",
       "3      ENSG00000198763    MT-ND2      P03891\n",
       "4      ENSG00000198763    MT-ND2      Q7GXY9\n",
       "...                ...       ...         ...\n",
       "88488  ENSG00000117682     DHDDS      E9PR24\n",
       "88489  ENSG00000117682     DHDDS      E9PSH7\n",
       "88490  ENSG00000117682     DHDDS      Q5T0A2\n",
       "88491  ENSG00000117682     DHDDS      Q5T0A0\n",
       "88492  ENSG00000117682     DHDDS      Q5T0A3\n",
       "\n",
       "[88493 rows x 3 columns]"
      ]
     },
     "execution_count": 52,
     "metadata": {},
     "output_type": "execute_result"
    }
   ],
   "source": [
    "ens2uni = pd.read_csv('../extdata/ensembl2uniprot.txt', sep='\\t')#[['ensembl_id', 'uniprot_id']]\n",
    "ens2uni"
   ]
  },
  {
   "cell_type": "code",
   "execution_count": null,
   "metadata": {},
   "outputs": [],
   "source": []
  }
 ],
 "metadata": {
  "kernelspec": {
   "display_name": "Python 3.9.12 ('SimpleDTA')",
   "language": "python",
   "name": "python3"
  },
  "language_info": {
   "codemirror_mode": {
    "name": "ipython",
    "version": 3
   },
   "file_extension": ".py",
   "mimetype": "text/x-python",
   "name": "python",
   "nbconvert_exporter": "python",
   "pygments_lexer": "ipython3",
   "version": "3.9.12"
  },
  "orig_nbformat": 4,
  "vscode": {
   "interpreter": {
    "hash": "968cf5cf332404ad98841a6b6a287037c314c71a319dcb31ec854ef97a0629dc"
   }
  }
 },
 "nbformat": 4,
 "nbformat_minor": 2
}
